{
  "cells": [
    {
      "cell_type": "code",
      "source": [
        "                                              #LIST\n",
        "#find the second largest element from the list by using function\n",
        "num=[3,1,4,3,5]\n",
        "def second_largest(num):\n",
        "  num.sort()\n",
        "  print(num[-2])\n",
        "second_largest(num)\n"
      ],
      "metadata": {
        "colab": {
          "base_uri": "https://localhost:8080/"
        },
        "id": "UJEI9xfRrFLC",
        "outputId": "a1b10203-3d97-4eca-ce3a-1515e41e9d2b"
      },
      "execution_count": null,
      "outputs": [
        {
          "output_type": "stream",
          "name": "stdout",
          "text": [
            "4\n"
          ]
        }
      ]
    },
    {
      "cell_type": "code",
      "source": [
        "#\n",
        "def square (num):\n",
        "  square_list=[]\n",
        "  for i in num:\n",
        "    if i%2==0:\n",
        "      square_list.append(i**2)\n",
        "  print(square_list)\n"
      ],
      "metadata": {
        "id": "bRhm5Fk1tYkS"
      },
      "execution_count": null,
      "outputs": []
    },
    {
      "cell_type": "code",
      "source": [
        "#find the comulative sum using function\n",
        "a=[1,2,3,4,5]\n",
        "def cumulative_sum(a):\n",
        " sum=0\n",
        " total=[]\n",
        " for i in a:\n",
        "  sum=sum+i\n",
        "  total.append(sum)\n",
        " print(total)\n",
        "\n",
        "\n",
        "\n",
        "\n",
        "\n"
      ],
      "metadata": {
        "id": "H3zSFsXiv2VY"
      },
      "execution_count": null,
      "outputs": []
    },
    {
      "cell_type": "code",
      "source": [
        "print(cumulative_sum(a))"
      ],
      "metadata": {
        "colab": {
          "base_uri": "https://localhost:8080/"
        },
        "id": "yV0E6SCb0jw8",
        "outputId": "18bbd46e-1711-4dda-c0e3-23ba6293498b"
      },
      "execution_count": null,
      "outputs": [
        {
          "output_type": "stream",
          "name": "stdout",
          "text": [
            "[1, 3, 6, 10, 15]\n",
            "None\n"
          ]
        }
      ]
    },
    {
      "cell_type": "code",
      "source": [
        "#find the frequency of element of the dictionary\n",
        "def frequency(a):\n",
        "  freq={}\n",
        "  for i in a:\n",
        "    if i in freq:\n",
        "      freq[i]=+1\n",
        "    else:\n",
        "      freq[i]=1\n",
        "  print(frequency)\n",
        "frequency([1,1,2,2,2,3,4,4,3,5,6,5])\n",
        "\n"
      ],
      "metadata": {
        "colab": {
          "base_uri": "https://localhost:8080/"
        },
        "id": "AEwGNDgQ0jrs",
        "outputId": "6472a4e5-f63b-4a2f-c54d-fe8384a56f10"
      },
      "execution_count": null,
      "outputs": [
        {
          "output_type": "stream",
          "name": "stdout",
          "text": [
            "<function frequency at 0x7f85aee14ee0>\n"
          ]
        }
      ]
    },
    {
      "cell_type": "code",
      "source": [
        "#find the square of even number using list comphression without using function\n",
        "a=[2,4,6,8,10]\n",
        "lst=[i*i for i in range(1,11) if i%2==0 ]\n",
        "print(lst)\n"
      ],
      "metadata": {
        "colab": {
          "base_uri": "https://localhost:8080/"
        },
        "id": "50PN-Sz95MQd",
        "outputId": "c40fe590-5e43-4e0f-b6cf-e545a5627a39"
      },
      "execution_count": null,
      "outputs": [
        {
          "output_type": "stream",
          "name": "stdout",
          "text": [
            "[4, 16, 36, 64, 100]\n"
          ]
        }
      ]
    },
    {
      "cell_type": "code",
      "source": [
        "#\n",
        "n=[n for n in range(1,25) if n%5==0]\n",
        "print(n)"
      ],
      "metadata": {
        "colab": {
          "base_uri": "https://localhost:8080/"
        },
        "id": "J0UpIgTp7M_R",
        "outputId": "6b21cf0b-7b56-4f65-c005-80ec99eec274"
      },
      "execution_count": null,
      "outputs": [
        {
          "output_type": "stream",
          "name": "stdout",
          "text": [
            "[5, 10, 15, 20]\n"
          ]
        }
      ]
    },
    {
      "cell_type": "code",
      "source": [
        "#print the table 7\n",
        "a=[]\n",
        "for i in range(1,11):\n",
        "  b=i*7\n",
        "  a.append(b)\n",
        "print(a)\n"
      ],
      "metadata": {
        "colab": {
          "base_uri": "https://localhost:8080/"
        },
        "id": "C-9FEOaq8TEM",
        "outputId": "b715e7b1-5ece-4b89-fa2f-dbd81e4ad4b2"
      },
      "execution_count": null,
      "outputs": [
        {
          "output_type": "stream",
          "name": "stdout",
          "text": [
            "[7, 14, 21, 28, 35, 42, 49, 56, 63, 70]\n"
          ]
        }
      ]
    },
    {
      "cell_type": "code",
      "source": [
        "a=['a','b','c','d','e']\n",
        "if 'c' in a:\n",
        "  print(\"is present\")\n",
        "else:\n",
        "  print(\"not present\")\n"
      ],
      "metadata": {
        "colab": {
          "base_uri": "https://localhost:8080/"
        },
        "id": "2zQK1Sol9XQR",
        "outputId": "19ee7818-3188-455b-9f6f-79820b7575c8"
      },
      "execution_count": null,
      "outputs": [
        {
          "output_type": "stream",
          "name": "stdout",
          "text": [
            "is present\n"
          ]
        }
      ]
    },
    {
      "cell_type": "code",
      "source": [
        "#Take a list find even or odd no using list comphression\n",
        "a=[ a for a in range(1,21) if a%2==0]\n",
        "print(a)\n",
        "b=[ b for b in range(1,21) if b%2!=0]\n",
        "print(b)"
      ],
      "metadata": {
        "colab": {
          "base_uri": "https://localhost:8080/"
        },
        "id": "_Yc2MOf9_Wae",
        "outputId": "2b664b8c-a597-4c7e-90e6-8c6c8a079b2b"
      },
      "execution_count": null,
      "outputs": [
        {
          "output_type": "stream",
          "name": "stdout",
          "text": [
            "[2, 4, 6, 8, 10, 12, 14, 16, 18, 20]\n",
            "[1, 3, 5, 7, 9, 11, 13, 15, 17, 19]\n"
          ]
        }
      ]
    },
    {
      "cell_type": "code",
      "source": [
        "#find the index position given no\n",
        "a=(1,2,3,4,5,6)\n",
        "b=a.index(5)\n",
        "print(b)"
      ],
      "metadata": {
        "colab": {
          "base_uri": "https://localhost:8080/"
        },
        "id": "9BUNGyx7Be0z",
        "outputId": "4e5293c8-82a6-411a-eb4c-20db7be8a700"
      },
      "execution_count": null,
      "outputs": [
        {
          "output_type": "stream",
          "name": "stdout",
          "text": [
            "4\n"
          ]
        }
      ]
    },
    {
      "cell_type": "code",
      "source": [
        "#find the index position given no using function\n",
        "a=(1,2,3,4,5,6,7)\n",
        "def s(a):\n",
        "  b=a.index(5)\n",
        "print(b)\n"
      ],
      "metadata": {
        "colab": {
          "base_uri": "https://localhost:8080/"
        },
        "id": "H4tnZCgfCJck",
        "outputId": "af415040-e095-4559-8125-dbe1f25738fe"
      },
      "execution_count": null,
      "outputs": [
        {
          "output_type": "stream",
          "name": "stdout",
          "text": [
            "4\n"
          ]
        }
      ]
    },
    {
      "cell_type": "code",
      "source": [
        "print(a.index(4))"
      ],
      "metadata": {
        "colab": {
          "base_uri": "https://localhost:8080/"
        },
        "id": "hvIcNDOzC361",
        "outputId": "868d373d-dd14-4c7c-aee4-cb678e8959dd"
      },
      "execution_count": null,
      "outputs": [
        {
          "output_type": "stream",
          "name": "stdout",
          "text": [
            "3\n"
          ]
        }
      ]
    },
    {
      "cell_type": "code",
      "source": [
        "s=(1,2,3,4,5,6,7,8)\n",
        "print(s.index(8))\n"
      ],
      "metadata": {
        "colab": {
          "base_uri": "https://localhost:8080/"
        },
        "id": "6qMmNazIDOoW",
        "outputId": "825f1b62-1649-4c30-ef00-df9953c5786c"
      },
      "execution_count": null,
      "outputs": [
        {
          "output_type": "stream",
          "name": "stdout",
          "text": [
            "7\n"
          ]
        }
      ]
    },
    {
      "cell_type": "code",
      "source": [
        "#create a function largest among three number\n",
        "def largest(a,b,c):\n",
        "  if a>b and a>c:\n",
        "    print(\"a is greater\")\n",
        "  elif b>a and b>c:\n",
        "    print(\"b is greater\")\n",
        "  else:\n",
        "    print(\"c is greater\")\n",
        "largest(22,33,21)\n"
      ],
      "metadata": {
        "colab": {
          "base_uri": "https://localhost:8080/"
        },
        "id": "tn8zlRreJii-",
        "outputId": "cb794d93-7bc7-427c-a18c-0e17ff03116d"
      },
      "execution_count": null,
      "outputs": [
        {
          "output_type": "stream",
          "name": "stdout",
          "text": [
            "b is greater\n"
          ]
        }
      ]
    },
    {
      "cell_type": "code",
      "source": [
        "#calling a function\n",
        "largest(786,92123,10500)"
      ],
      "metadata": {
        "colab": {
          "base_uri": "https://localhost:8080/"
        },
        "id": "fznjWuPzKzB4",
        "outputId": "ebfda410-e6cc-4e79-bce6-861b411b5f97"
      },
      "execution_count": null,
      "outputs": [
        {
          "output_type": "stream",
          "name": "stdout",
          "text": [
            "b is greater\n"
          ]
        }
      ]
    },
    {
      "cell_type": "code",
      "source": [
        "#create function to find out square root of give number\n",
        "a=int(input(\"enter a number\"))\n",
        "def square_root(a):\n",
        "  print(a**0.5)\n",
        "square_root(a)"
      ],
      "metadata": {
        "colab": {
          "base_uri": "https://localhost:8080/"
        },
        "id": "iNkogOoJMz6p",
        "outputId": "906bb32c-0342-499e-bfd6-b324c4f1fbe4"
      },
      "execution_count": null,
      "outputs": [
        {
          "output_type": "stream",
          "name": "stdout",
          "text": [
            "enter a number4\n",
            "2.0\n"
          ]
        }
      ]
    },
    {
      "cell_type": "code",
      "source": [
        "#write a program that takes input even or odd\n",
        "a=int(input(\"enter a number\"))\n",
        "def number(a):\n",
        "  if a%2==0:\n",
        "    print(\"even\")\n",
        "  else:\n",
        "    print(\"odd\")\n",
        "number(a)\n"
      ],
      "metadata": {
        "colab": {
          "base_uri": "https://localhost:8080/"
        },
        "id": "v8jTatQsNveG",
        "outputId": "bb9a625a-e2f8-46a9-fe1f-81161ac1c41f"
      },
      "execution_count": null,
      "outputs": [
        {
          "output_type": "stream",
          "name": "stdout",
          "text": [
            "enter a number2\n",
            "even\n"
          ]
        }
      ]
    },
    {
      "cell_type": "code",
      "source": [
        "#write a function check palindrome or not\n",
        "def palindrome(a):\n",
        "  if a==a[::-1]:\n",
        "    print(\"palindrome\")\n",
        "  else:\n",
        "    print(\"not palindrome\")\n",
        "palindrome(\"eat\")"
      ],
      "metadata": {
        "colab": {
          "base_uri": "https://localhost:8080/"
        },
        "id": "T51vIM6xOd3_",
        "outputId": "0e1b3fd9-719f-4619-a801-2a049ad895a6"
      },
      "execution_count": null,
      "outputs": [
        {
          "output_type": "stream",
          "name": "stdout",
          "text": [
            "not palindrome\n"
          ]
        }
      ]
    },
    {
      "cell_type": "code",
      "source": [
        "#write a program to calculate area of circle using function\n",
        "def area_of_circle(pi,r):\n",
        "  area=3.14*radius**2\n",
        "  print(area)\n",
        "\n",
        "\n"
      ],
      "metadata": {
        "id": "40kqzrMAOxXM"
      },
      "execution_count": null,
      "outputs": []
    },
    {
      "cell_type": "code",
      "source": [
        "print(area_of_circle(7))"
      ],
      "metadata": {
        "colab": {
          "base_uri": "https://localhost:8080/"
        },
        "id": "2QO53wbqRzus",
        "outputId": "5df1335e-900f-4101-ca77-7467c86b6c93"
      },
      "execution_count": null,
      "outputs": [
        {
          "output_type": "stream",
          "name": "stdout",
          "text": [
            "153.86\n",
            "None\n"
          ]
        }
      ]
    },
    {
      "cell_type": "code",
      "source": [
        "                                        #SET#\n",
        "#create a set and store a animal\n",
        "s={\"dog\",\"elephant\",\"monkey\",\"cat\",\"lion\"}\n",
        "s.add(\"tiger\")\n",
        "print(s)\n"
      ],
      "metadata": {
        "colab": {
          "base_uri": "https://localhost:8080/"
        },
        "id": "hUTMBLkV2f8A",
        "outputId": "9b06aaae-ee7e-4f2d-fba9-e6bb2f0ad0aa"
      },
      "execution_count": null,
      "outputs": [
        {
          "output_type": "stream",
          "name": "stdout",
          "text": [
            "{'tiger', 'monkey', 'lion', 'dog', 'elephant', 'cat'}\n"
          ]
        }
      ]
    },
    {
      "cell_type": "code",
      "source": [
        "#update a set\n",
        "a={\"dog\",\"elephant\",\"monkey\",\"cat\",\"lion\"}\n",
        "b={\"tiger\",\"horse\"}\n",
        "a.update(b)\n",
        "print(a)"
      ],
      "metadata": {
        "colab": {
          "base_uri": "https://localhost:8080/"
        },
        "id": "XxX_hDdO3nD8",
        "outputId": "a83be8a9-ec71-4e79-e6ba-145e6c8443c7"
      },
      "execution_count": null,
      "outputs": [
        {
          "output_type": "stream",
          "name": "stdout",
          "text": [
            "{'tiger', 'monkey', 'lion', 'dog', 'elephant', 'cat', 'horse'}\n"
          ]
        }
      ]
    },
    {
      "cell_type": "code",
      "source": [
        "#1Write a Python program to create a set and add multiple items to it.\n",
        "a={\"snehal\",\"neha\",\"pranjal\"}\n",
        "a.add(\"kiran\")\n",
        "a.add(\"kirti\")\n",
        "a.add(\"shrauu\")\n",
        "a.add(\"sweety\")\n",
        "print(a)"
      ],
      "metadata": {
        "colab": {
          "base_uri": "https://localhost:8080/"
        },
        "id": "YdgRyUXQ4eEW",
        "outputId": "693d50b3-8796-4124-afbe-b4da82a0e1a9"
      },
      "execution_count": null,
      "outputs": [
        {
          "output_type": "stream",
          "name": "stdout",
          "text": [
            "{'neha', 'kiran', 'kirti', 'snehal', 'shrauu', 'sweety', 'pranjal'}\n"
          ]
        }
      ]
    },
    {
      "cell_type": "code",
      "source": [
        "#2Given a set {1, 2, 3, 4, 5}, write a Python program to add an element 6 to this set.\n",
        "set={1,2,3,4,5}\n",
        "set.add(6)\n",
        "print(set)"
      ],
      "metadata": {
        "colab": {
          "base_uri": "https://localhost:8080/"
        },
        "id": "AwEbkYqp5087",
        "outputId": "0823ce98-0e85-4680-e7e2-c047a5e8d9d1"
      },
      "execution_count": null,
      "outputs": [
        {
          "output_type": "stream",
          "name": "stdout",
          "text": [
            "{1, 2, 3, 4, 5, 6}\n"
          ]
        }
      ]
    },
    {
      "cell_type": "code",
      "source": [
        "#3Write a Python program to remove an element 2 from the set {1, 2, 3, 4, 5}.\n",
        "a={1,2,3,4,5}\n",
        "a.remove(2)\n",
        "print(a)"
      ],
      "metadata": {
        "colab": {
          "base_uri": "https://localhost:8080/"
        },
        "id": "rKlSz_ip6F0c",
        "outputId": "23d9251a-8a72-4f26-9f39-5c4d0ce995a9"
      },
      "execution_count": null,
      "outputs": [
        {
          "output_type": "stream",
          "name": "stdout",
          "text": [
            "{1, 3, 4, 5}\n"
          ]
        }
      ]
    },
    {
      "cell_type": "code",
      "source": [
        "#4How can you find the union of two sets {1, 2, 3} and {3, 4, 5}?\n",
        "a={1,2,3}\n",
        "b={3,4,5}\n",
        "x=a.union(b)\n",
        "print(x)"
      ],
      "metadata": {
        "colab": {
          "base_uri": "https://localhost:8080/"
        },
        "id": "n25m10vL6XZu",
        "outputId": "cfff7458-44ea-409a-fe8f-e426fc7a2bd2"
      },
      "execution_count": null,
      "outputs": [
        {
          "output_type": "stream",
          "name": "stdout",
          "text": [
            "{1, 2, 3, 4, 5}\n"
          ]
        }
      ]
    },
    {
      "cell_type": "code",
      "source": [
        "#5Write a Python program to find the intersection of sets {10, 20, 30, 40} and {30, 40, 50, 60}.\n",
        "a={10,20,30,40}\n",
        "b={30,40,50,60}\n",
        "x=a.intersection(b)\n",
        "print(x)"
      ],
      "metadata": {
        "colab": {
          "base_uri": "https://localhost:8080/"
        },
        "id": "9Zw4C7-L6nvq",
        "outputId": "5d9e507e-bcc3-4172-dd80-5b7b3aa186a5"
      },
      "execution_count": null,
      "outputs": [
        {
          "output_type": "stream",
          "name": "stdout",
          "text": [
            "{40, 30}\n"
          ]
        }
      ]
    },
    {
      "cell_type": "code",
      "source": [
        "#6Given two sets {1, 2, 3} and {3, 4, 5}, write a Python program to find their difference.\n",
        "a={1,2,3}\n",
        "b={3,4,5}\n",
        "x=a.difference(b)\n",
        "print(x)"
      ],
      "metadata": {
        "colab": {
          "base_uri": "https://localhost:8080/"
        },
        "id": "D2Bq00vF7BRn",
        "outputId": "b8d3dba9-e2dc-431d-db6e-beb7deae0899"
      },
      "execution_count": null,
      "outputs": [
        {
          "output_type": "stream",
          "name": "stdout",
          "text": [
            "{1, 2}\n"
          ]
        }
      ]
    },
    {
      "cell_type": "code",
      "source": [
        "#7Write a Python program to check if {1, 2} is a subset of {1, 2, 3, 4}.\n",
        "a={1,2}\n",
        "b={1,2,3,4}\n",
        "x=a.issubset(b)\n",
        "print(x)"
      ],
      "metadata": {
        "colab": {
          "base_uri": "https://localhost:8080/"
        },
        "id": "kPzPST1P7YNZ",
        "outputId": "e7a87563-d429-4883-b936-552436eb0b0e"
      },
      "execution_count": null,
      "outputs": [
        {
          "output_type": "stream",
          "name": "stdout",
          "text": [
            "True\n"
          ]
        }
      ]
    },
    {
      "cell_type": "code",
      "source": [
        "#8How can you clear all elements from a set?\n",
        "a={1,2,3,4,5,6,7,8,9}\n",
        "a.clear()\n",
        "print(a)"
      ],
      "metadata": {
        "colab": {
          "base_uri": "https://localhost:8080/"
        },
        "id": "KV4tujW57q65",
        "outputId": "7ee79e30-5bd0-41b6-9be1-9e3f3f3284d7"
      },
      "execution_count": null,
      "outputs": [
        {
          "output_type": "stream",
          "name": "stdout",
          "text": [
            "set()\n"
          ]
        }
      ]
    },
    {
      "cell_type": "code",
      "source": [
        "#9Write a Python program to find the length of a set {10, 20, 30, 40, 50}.\n",
        "a={10,20,30,40,50}\n",
        "x=(len(a))\n",
        "print(x)"
      ],
      "metadata": {
        "colab": {
          "base_uri": "https://localhost:8080/"
        },
        "id": "EUY0ncUU75tB",
        "outputId": "97214629-c662-48eb-c6f9-3c387205e488"
      },
      "execution_count": null,
      "outputs": [
        {
          "output_type": "stream",
          "name": "stdout",
          "text": [
            "5\n"
          ]
        }
      ]
    },
    {
      "cell_type": "code",
      "source": [
        "#10 Create two sets {1, 2, 3} and {4, 5, 6} and check if they are disjoint sets.\n",
        "a={1,2,3}\n",
        "b={4,5,6}\n",
        "x=a.isdisjoint(b)\n",
        "print(x)\n"
      ],
      "metadata": {
        "colab": {
          "base_uri": "https://localhost:8080/"
        },
        "id": "1zhyTgiq8J1t",
        "outputId": "e740a484-4583-4f08-9358-e48ce817a06b"
      },
      "execution_count": null,
      "outputs": [
        {
          "output_type": "stream",
          "name": "stdout",
          "text": [
            "True\n"
          ]
        }
      ]
    },
    {
      "cell_type": "code",
      "source": [
        "#11.Write a program to find the most common element in a list using sets.\n",
        "# Example: For the list [2, 3, 2, 5, 3, 3, 2], the output should be 2 or 3 (both appear 3 times).\n",
        "def most(lst):\n",
        "    unique_elements= set(lst)\n",
        "    max_count=0\n",
        "    most_common=[]\n",
        "    for i in unique_elements:\n",
        "      count=lst.count(i)\n",
        "      if count>max_count:\n",
        "        max_count=count\n",
        "        most_common=[i]\n",
        "      elif count==max_count:\n",
        "             max_count=count\n",
        "             most_common.append(i)\n",
        "    print(most_common)\n",
        "\n",
        "\n",
        "\n"
      ],
      "metadata": {
        "id": "wnRDgmoC-9sJ"
      },
      "execution_count": null,
      "outputs": []
    },
    {
      "cell_type": "code",
      "source": [
        "x=[1,2,3,4,5,6,7,8,9,10,1,2,3,4,5,6]\n",
        "\n",
        "duplicate=[]\n",
        "for i in x:\n",
        "  if x.count(i)==2:\n",
        "    duplicate.append(i)\n",
        "print(set(duplicate))"
      ],
      "metadata": {
        "colab": {
          "base_uri": "https://localhost:8080/"
        },
        "id": "fTNhbXfyF2bR",
        "outputId": "475e2621-e883-4461-a619-b92e3cb8bd57"
      },
      "execution_count": null,
      "outputs": [
        {
          "output_type": "stream",
          "name": "stdout",
          "text": [
            "{1, 2, 3, 4, 5, 6}\n"
          ]
        }
      ]
    },
    {
      "cell_type": "code",
      "source": [
        "#Area of rectangle\n",
        "l=2\n",
        "b=4\n",
        "area=l*b\n",
        "print(area)\n"
      ],
      "metadata": {
        "colab": {
          "base_uri": "https://localhost:8080/"
        },
        "id": "JVqlEUwSbPLA",
        "outputId": "612b0745-f75b-42cf-9489-a36159fe545c"
      },
      "execution_count": null,
      "outputs": [
        {
          "output_type": "stream",
          "name": "stdout",
          "text": [
            "8\n"
          ]
        }
      ]
    },
    {
      "cell_type": "code",
      "source": [
        "#Perimeter of ractangle\n",
        "l=2\n",
        "b=4\n",
        "perimeter=2*(l+b)\n",
        "print(perimeter)"
      ],
      "metadata": {
        "colab": {
          "base_uri": "https://localhost:8080/"
        },
        "id": "3u17_kIsbPIF",
        "outputId": "81e3e16e-f41e-4c79-e7b7-0727185c2840"
      },
      "execution_count": null,
      "outputs": [
        {
          "output_type": "stream",
          "name": "stdout",
          "text": [
            "12\n"
          ]
        }
      ]
    },
    {
      "cell_type": "code",
      "source": [
        "#Area of circle\n",
        "r=4\n",
        "area=3.14*r\n",
        "print(area)"
      ],
      "metadata": {
        "colab": {
          "base_uri": "https://localhost:8080/"
        },
        "id": "uIJSWNCFcMzE",
        "outputId": "758c3555-36dd-4acd-ac56-a0d8f14710e1"
      },
      "execution_count": null,
      "outputs": [
        {
          "output_type": "stream",
          "name": "stdout",
          "text": [
            "12.56\n"
          ]
        }
      ]
    },
    {
      "cell_type": "code",
      "source": [
        "#Area of triangle\n",
        "b=4\n",
        "h=2\n",
        "area=0.5*b*h\n",
        "print(area)\n"
      ],
      "metadata": {
        "id": "PCBRp-EMHcxL",
        "colab": {
          "base_uri": "https://localhost:8080/"
        },
        "outputId": "229ac1e2-fa62-42ac-f34d-8b5d165b5e7c"
      },
      "execution_count": null,
      "outputs": [
        {
          "output_type": "stream",
          "name": "stdout",
          "text": [
            "4.0\n"
          ]
        }
      ]
    },
    {
      "cell_type": "code",
      "source": [
        "#perimeter of triangle\n",
        "a=2\n",
        "b=4\n",
        "c=6\n",
        "perimeter=a+b+c\n",
        "print(perimeter)"
      ],
      "metadata": {
        "colab": {
          "base_uri": "https://localhost:8080/"
        },
        "id": "2JFvSn7XdAqa",
        "outputId": "8188f4f8-0899-4a1b-f99c-077dfb9b64c1"
      },
      "execution_count": null,
      "outputs": [
        {
          "output_type": "stream",
          "name": "stdout",
          "text": [
            "12\n"
          ]
        }
      ]
    },
    {
      "cell_type": "code",
      "source": [
        "#Area of square\n",
        "s=4\n",
        "area=s*s\n",
        "print(area)"
      ],
      "metadata": {
        "colab": {
          "base_uri": "https://localhost:8080/"
        },
        "id": "v5ZqYSZsdbjI",
        "outputId": "a1e4fe68-208e-4267-80eb-2bb15fe6ca57"
      },
      "execution_count": null,
      "outputs": [
        {
          "output_type": "stream",
          "name": "stdout",
          "text": [
            "16\n"
          ]
        }
      ]
    },
    {
      "cell_type": "code",
      "source": [
        "#perimeter of square\n",
        "s=5\n",
        "perimeter=4*s\n",
        "print(perimeter)"
      ],
      "metadata": {
        "colab": {
          "base_uri": "https://localhost:8080/"
        },
        "id": "YxRylW63dtUA",
        "outputId": "36a295a3-564a-4d4e-f946-4360c8698c59"
      },
      "execution_count": null,
      "outputs": [
        {
          "output_type": "stream",
          "name": "stdout",
          "text": [
            "20\n"
          ]
        }
      ]
    },
    {
      "cell_type": "code",
      "source": [
        "#Write a program Area of triangle using function\n",
        "def area_of_triangle(b,h):\n",
        "  area=0.5*b*h\n",
        "  return area\n",
        "b=4\n",
        "h=2\n",
        "area=area_of_triangle(b,h)\n",
        "print(area)\n",
        "\n"
      ],
      "metadata": {
        "colab": {
          "base_uri": "https://localhost:8080/"
        },
        "id": "3GlU7OPngc9f",
        "outputId": "6bf7e2cb-c907-42c4-8b63-0c41f14d7c74"
      },
      "execution_count": null,
      "outputs": [
        {
          "output_type": "stream",
          "name": "stdout",
          "text": [
            "4.0\n"
          ]
        }
      ]
    },
    {
      "cell_type": "code",
      "source": [
        "# write program prime number\n",
        "a=int(input(\"enter a number:\"))\n",
        "for i in range(2,a):\n",
        "  if a%i==0:\n",
        "    print(\"not prime\")\n",
        "    break\n",
        "else:\n",
        "  print(\"prime\")\n",
        "\n",
        "\n"
      ],
      "metadata": {
        "colab": {
          "base_uri": "https://localhost:8080/"
        },
        "id": "KVvAJ7RS_HNl",
        "outputId": "e8ea7d34-e4f1-4a5c-a8e1-67b708a86e37"
      },
      "execution_count": null,
      "outputs": [
        {
          "output_type": "stream",
          "name": "stdout",
          "text": [
            "enter a number:3\n",
            "prime\n"
          ]
        }
      ]
    },
    {
      "cell_type": "code",
      "source": [
        "a=[1,2,3,4,5,6,7,8,9,10,11,12,13,14,15]\n",
        "prime=[]\n",
        "not_prime=[]\n",
        "for i in a:\n",
        "  for j in range(2,i):\n",
        "   if i%j==0:\n",
        "     not_prime.append(i)\n",
        "     break\n",
        "   else:\n",
        "     prime.append(i)\n",
        "print(\"not_prime:\",not_prime)\n",
        "print(\"prime:\",prime)"
      ],
      "metadata": {
        "colab": {
          "base_uri": "https://localhost:8080/"
        },
        "id": "x1-dKOtiDC30",
        "outputId": "56956335-0a2c-4e76-c0c1-26f8e25c064f"
      },
      "execution_count": null,
      "outputs": [
        {
          "output_type": "stream",
          "name": "stdout",
          "text": [
            "not_prime: [4, 6, 8, 9, 10, 12, 14, 15]\n",
            "prime: [3, 5, 5, 5, 7, 7, 7, 7, 7, 9, 11, 11, 11, 11, 11, 11, 11, 11, 11, 13, 13, 13, 13, 13, 13, 13, 13, 13, 13, 13, 15]\n"
          ]
        }
      ]
    },
    {
      "cell_type": "code",
      "source": [
        "a=[1,2,3,33,4,5,6,7,8,9,10,12,13,14,15,16,17,18,19,20]\n",
        "even=[]\n",
        "odd=[]\n",
        "for i in a:\n",
        "  if i%2==0:\n",
        "    even.append(i)\n",
        "  else:\n",
        "    odd.append(i)\n",
        "print(\"even no:\",even)\n",
        "print(\"odd no:\",odd)"
      ],
      "metadata": {
        "colab": {
          "base_uri": "https://localhost:8080/"
        },
        "id": "osVpv38l_Sj7",
        "outputId": "c2012034-cc05-4b28-e1af-401dd4ab6ed7"
      },
      "execution_count": null,
      "outputs": [
        {
          "output_type": "stream",
          "name": "stdout",
          "text": [
            "even no: [2, 4, 6, 8, 10, 12, 14, 16, 18, 20]\n",
            "odd no: [1, 3, 33, 5, 7, 9, 13, 15, 17, 19]\n"
          ]
        }
      ]
    },
    {
      "cell_type": "code",
      "execution_count": null,
      "metadata": {
        "id": "QJFNq_UNOq1Q",
        "colab": {
          "base_uri": "https://localhost:8080/"
        },
        "outputId": "e6edb8b2-dbd7-4dc8-933a-f2a6c6f6469f"
      },
      "outputs": [
        {
          "output_type": "stream",
          "name": "stdout",
          "text": [
            "Enter the temperature in Fahrenheit: 10\n",
            "10.0°F is equal to -12.22°C\n"
          ]
        }
      ],
      "source": [
        "# Function to convert Fahrenheit to Celsius\n",
        "def fahrenheit_to_celsius(fahrenheit):\n",
        "    celsius = (fahrenheit - 32) * 5.0 / 9.0\n",
        "    return celsius\n",
        "\n",
        "# Input: temperature in Fahrenheit\n",
        "fahrenheit = float(input(\"Enter the temperature in Fahrenheit: \"))\n",
        "\n",
        "# Convert to Celsius\n",
        "celsius = fahrenheit_to_celsius(fahrenheit)\n",
        "\n",
        "# Output the result\n",
        "print(f\"{fahrenheit}°F is equal to {celsius:.2f}°C\")\n"
      ]
    },
    {
      "cell_type": "code",
      "source": [
        "# Function to convert celsius to fahrenheite\n",
        "def celsius_to_fahrenheite(celsius):\n",
        "  fahrenheite=(celsius*5/9)-32\n",
        "  return fahrenheite\n",
        "celsius=float(input(\"enter temprature in to celsius\"))\n",
        "fahrenheite=celsius_to_fahrenheite(celsius)\n",
        "print(f\"{celsius}celsius is equal to {fahrenheite}fahrenheite\")"
      ],
      "metadata": {
        "colab": {
          "base_uri": "https://localhost:8080/"
        },
        "id": "R6HVXR5upOfe",
        "outputId": "4783511d-2eeb-46ec-c526-4f8f9b95ff83"
      },
      "execution_count": null,
      "outputs": [
        {
          "output_type": "stream",
          "name": "stdout",
          "text": [
            "enter temprature in to celsius10\n",
            "10.0celsius is equal to -26.444444444444443fahrenheite\n"
          ]
        }
      ]
    },
    {
      "cell_type": "code",
      "execution_count": null,
      "metadata": {
        "colab": {
          "base_uri": "https://localhost:8080/"
        },
        "id": "6WZpeWW745RP",
        "outputId": "0add9792-9117-4694-c74f-09177a01a54f"
      },
      "outputs": [
        {
          "output_type": "stream",
          "name": "stdout",
          "text": [
            "*\n",
            "**\n",
            "***\n",
            "****\n",
            "*****\n"
          ]
        }
      ],
      "source": [
        "#1.Print the following pattern\n",
        "for i in range(1,6):\n",
        "  print(\"*\"*i)"
      ]
    },
    {
      "cell_type": "code",
      "execution_count": null,
      "metadata": {
        "colab": {
          "base_uri": "https://localhost:8080/"
        },
        "id": "Vv2YUc-U5T4Y",
        "outputId": "124a6bff-f366-40fa-efdf-c0f68a63118c"
      },
      "outputs": [
        {
          "name": "stdout",
          "output_type": "stream",
          "text": [
            "1 \n",
            "1 2 \n",
            "1 2 3 \n",
            "1 2 3 4 \n",
            "1 2 3 4 5 \n"
          ]
        }
      ],
      "source": [
        "#2.Write a program to print the following pattern using nested loops\n",
        "for i in range(1,6):\n",
        "  for j in range(1,i+1):\n",
        "    print(j,end=\" \")\n",
        "  print()\n"
      ]
    },
    {
      "cell_type": "code",
      "execution_count": null,
      "metadata": {
        "colab": {
          "base_uri": "https://localhost:8080/"
        },
        "id": "FsdRM2r86Z7Y",
        "outputId": "4e31a711-5eab-491b-f31e-eeaa3e682593"
      },
      "outputs": [
        {
          "name": "stdout",
          "output_type": "stream",
          "text": [
            "\n",
            "* \n",
            "* * \n",
            "* * * \n",
            "* * * * \n"
          ]
        }
      ],
      "source": [
        "#3. Print a pattern that mirrors a right-angled triangle (e.g., with spaces on the left)\n",
        "for i in range(1,6):\n",
        "  for j in range(1,i,+1):\n",
        "    print(\"*\",end=\" \")\n",
        "  print()\n"
      ]
    },
    {
      "cell_type": "code",
      "execution_count": null,
      "metadata": {
        "colab": {
          "base_uri": "https://localhost:8080/"
        },
        "id": "APJRZY7X71dc",
        "outputId": "437da879-2888-46a6-8d1a-14d917d56fd5"
      },
      "outputs": [
        {
          "name": "stdout",
          "output_type": "stream",
          "text": [
            "\n",
            "* \n",
            "* * \n",
            "* * * \n"
          ]
        }
      ],
      "source": [
        "#4. Write a program to print a pyramid pattern of stars\n",
        "for i in range(1,5):\n",
        "  for j in range(1,i,+1):\n",
        "    print(\"*\",end=\" \")\n",
        "  print()"
      ]
    },
    {
      "cell_type": "code",
      "execution_count": null,
      "metadata": {
        "id": "QQvZTRab73aD",
        "colab": {
          "base_uri": "https://localhost:8080/"
        },
        "outputId": "81f8893e-3527-415e-ed8f-511641836b86"
      },
      "outputs": [
        {
          "output_type": "stream",
          "name": "stdout",
          "text": [
            "    *\n",
            "   ***\n",
            "  *****\n",
            " *******\n",
            "*********\n",
            " *******\n",
            "  *****\n",
            "   ***\n",
            "    *\n"
          ]
        }
      ],
      "source": [
        "#5. Create a diamond shape pattern using *\n",
        "def print_diamond(n):\n",
        "  for i in range(n):\n",
        "    for j in range(n- i -1):p;\n",
        "      print(\" \" , end=\"\")\n",
        "    for j in range(2 * i + 1):\n",
        "      print(\"*\", end=\"\")\n",
        "    print()\n",
        "\n",
        "  for i in range(n - 2, -1, -1):\n",
        "    for j in range(n - i - 1):\n",
        "      print(\" \", end=\"\")\n",
        "    for j in range(2 * i + 1):\n",
        "      print(\"*\",end=\"\")\n",
        "    print()\n",
        "\n",
        "n= 5\n",
        "print_diamond(n)\n"
      ]
    },
    {
      "cell_type": "code",
      "execution_count": null,
      "metadata": {
        "colab": {
          "base_uri": "https://localhost:8080/"
        },
        "id": "K5GHAYfh7-Mc",
        "outputId": "531124c9-90b2-45be-ffbc-b7d211231451"
      },
      "outputs": [
        {
          "name": "stdout",
          "output_type": "stream",
          "text": [
            "1\n",
            "2\n",
            "3\n",
            "4\n",
            "6\n",
            "7\n",
            "8\n",
            "9\n",
            "10\n"
          ]
        }
      ],
      "source": [
        "#6. Write a program to print numbers from 1 to 10 but skip printing 5 using continue.\n",
        "for i in range(1,11):\n",
        "  if i==5:\n",
        "    continue\n",
        "  print(i)"
      ]
    },
    {
      "cell_type": "code",
      "execution_count": null,
      "metadata": {
        "colab": {
          "base_uri": "https://localhost:8080/"
        },
        "id": "0x7dsuiZ9wBw",
        "outputId": "22556c65-3b4b-4614-8701-51d7f7b22558"
      },
      "outputs": [
        {
          "name": "stdout",
          "output_type": "stream",
          "text": [
            "1\n",
            "2\n",
            "3\n"
          ]
        }
      ],
      "source": [
        "#7. Create a program that prints numbers from 1 to 10 but stops if it encounters a number divisible by 4 using break.\n",
        "for i in range(1,11):\n",
        "  if i % 4 == 0:\n",
        "    break\n",
        "  print(i)"
      ]
    },
    {
      "cell_type": "code",
      "execution_count": null,
      "metadata": {
        "colab": {
          "base_uri": "https://localhost:8080/"
        },
        "id": "4bTvs671_IoX",
        "outputId": "5c26d49e-a696-48a6-e90f-efae82380c6d"
      },
      "outputs": [
        {
          "name": "stdout",
          "output_type": "stream",
          "text": [
            "enter a number:6\n",
            "6\n",
            "enter a number:hello\n",
            "hello\n",
            "enter a number:4\n",
            "4\n",
            "enter a number:exit\n"
          ]
        }
      ],
      "source": [
        "#8.Write a program that takes user input continuously until the user enters exit using a while loop and break statement.\n",
        "while True:\n",
        "  a=input(\"enter a number:\")\n",
        "  if a== \"exit\":\n",
        "    break\n",
        "  print(a)"
      ]
    },
    {
      "cell_type": "code",
      "execution_count": null,
      "metadata": {
        "colab": {
          "base_uri": "https://localhost:8080/"
        },
        "id": "HAZZnMp7B4G9",
        "outputId": "8b076544-de5b-4d49-de83-f42fddaae928"
      },
      "outputs": [
        {
          "name": "stdout",
          "output_type": "stream",
          "text": [
            "2\n",
            "4\n",
            "6\n",
            "8\n",
            "10\n",
            "12\n"
          ]
        }
      ],
      "source": [
        "#9. Using a for loop, print all even numbers between 1 and 20, but stop if the number is greater than 12 using break.\n",
        "for i in range(1,21):\n",
        "  if i>12:\n",
        "    break\n",
        "  if i%2==0:\n",
        "    print(i)"
      ]
    },
    {
      "cell_type": "code",
      "execution_count": null,
      "metadata": {
        "colab": {
          "base_uri": "https://localhost:8080/"
        },
        "id": "mZKBHPH7DZ3f",
        "outputId": "12a69dce-e51a-485e-899a-a4c5a1e58a9b"
      },
      "outputs": [
        {
          "name": "stdout",
          "output_type": "stream",
          "text": [
            "enter a number:22\n",
            "enter a number:34\n",
            "enter a number:21\n",
            "enter a number:-34\n",
            "77\n"
          ]
        }
      ],
      "source": [
        "#10Write a program that prompts the user for numbers until they enter a negative number, then prints the sum of all entered positive numbers. Use continue to skip negative numbers in the summation.\n",
        "a=0\n",
        "while True:\n",
        "  b=int(input(\"enter a number:\"))\n",
        "  if b<0:\n",
        "    break\n",
        "  a+=b\n",
        "print(a)\n"
      ]
    },
    {
      "cell_type": "code",
      "execution_count": null,
      "metadata": {
        "colab": {
          "base_uri": "https://localhost:8080/"
        },
        "id": "TdCbhMbFFgD_",
        "outputId": "537dff5b-d7e9-4bb1-fe8f-16f1115f95df"
      },
      "outputs": [
        {
          "name": "stdout",
          "output_type": "stream",
          "text": [
            "Simple Voting System\n",
            "Vote for your favorite candidate:\n",
            "Enter 'A' for Candidate A, 'B' for Candidate B, 'C' for Candidate C\n",
            "Enter 'end' to finish voting and see the results.\n",
            "\n",
            "Cast your vote (A, B, C, or 'end' to finish): A\n",
            "Cast your vote (A, B, C, or 'end' to finish): end\n",
            "\n",
            "Voting Results:\n",
            "Candidate A: 1 votes\n",
            "Candidate B: 0 votes\n",
            "Candidate C: 0 votes\n",
            "Winner: Candidate A\n"
          ]
        }
      ],
      "source": [
        "#11. Write a program for a simple voting system. Allow the user to vote for Candidate A, Candidate B, or Candidate C. Display the winner based on the user's choice.\n",
        "candidate_a = 0\n",
        "candidate_b = 0\n",
        "candidate_c = 0\n",
        "\n",
        "print(\"Simple Voting System\")\n",
        "print(\"Vote for your favorite candidate:\")\n",
        "print(\"Enter 'A' for Candidate A, 'B' for Candidate B, 'C' for Candidate C\")\n",
        "print(\"Enter 'end' to finish voting and see the results.\\n\")\n",
        "\n",
        "while True:\n",
        "    # Prompt the user for a vote\n",
        "    candidate = input(\"Cast your vote (A, B, C, or 'end' to finish): \").strip().upper()\n",
        "\n",
        "    if candidate == 'END':\n",
        "        break\n",
        "    elif candidate == 'A':\n",
        "        candidate_a += 1\n",
        "    elif candidate == 'B':\n",
        "        candidate_b += 1\n",
        "    elif candidate == 'C':\n",
        "        candidate_c += 1\n",
        "    else:\n",
        "        print(\"Invalid input. Please enter A, B, C, or 'end'.\")\n",
        "\n",
        "# Display the results\n",
        "print(\"\\nVoting Results:\")\n",
        "print(f\"Candidate A: {candidate_a} votes\")\n",
        "print(f\"Candidate B: {candidate_b} votes\")\n",
        "print(f\"Candidate C: {candidate_c} votes\")\n",
        "\n",
        "# Determine the winner\n",
        "if candidate_a > candidate_b and candidate_a > candidate_c:\n",
        "    print(\"Winner: Candidate A\")\n",
        "elif candidate_b > candidate_a and candidate_b > candidate_c:\n",
        "    print(\"Winner: Candidate B\")\n",
        "elif candidate_c > candidate_a and candidate_c > candidate_b:\n",
        "    print(\"Winner: Candidate C\")\n",
        "else:\n",
        "    print(\"It's a tie!\")\n"
      ]
    },
    {
      "cell_type": "code",
      "execution_count": null,
      "metadata": {
        "colab": {
          "base_uri": "https://localhost:8080/"
        },
        "id": "pwr9XzkBHyV4",
        "outputId": "c861b2a8-6c97-43ff-bcb2-d0af1f1f63c4"
      },
      "outputs": [
        {
          "name": "stdout",
          "output_type": "stream",
          "text": [
            "enter a number:4\n",
            "4\n",
            "enter a number:56\n",
            "56\n",
            "enter a number:stop\n"
          ]
        }
      ],
      "source": [
        "#12. Extend the voting system program to accept multiple votes and count how many votes each candidate received. Stop accepting votes when the user types stop.\n",
        "while True:\n",
        "  a=input(\"enter a number:\")\n",
        "  if a==\"stop\":\n",
        "    break\n",
        "  print(a)\n"
      ]
    },
    {
      "cell_type": "code",
      "execution_count": null,
      "metadata": {
        "colab": {
          "base_uri": "https://localhost:8080/"
        },
        "id": "7UZM4eq1J28N",
        "outputId": "78cad228-1291-435d-9f9b-bd379fc11fb7"
      },
      "outputs": [
        {
          "name": "stdout",
          "output_type": "stream",
          "text": [
            "Enter your vote(A,B,or C):A\n",
            "valid vote\n"
          ]
        }
      ],
      "source": [
        "#13. Write a Python program to check if the user's vote is valid (either A, B, or C). If not, ask for input again using a while loop.\n",
        "while True:\n",
        "  vote=input(\"Enter your vote(A,B,or C):\").upper()\n",
        "  if vote in (\"A\" or \"B\" or \"C\"):\n",
        "    print(\"valid vote\")\n",
        "    break\n",
        "  else:\n",
        "    print(\"invalid vote.Please enter A,B or C\")\n"
      ]
    },
    {
      "cell_type": "code",
      "execution_count": null,
      "metadata": {
        "colab": {
          "base_uri": "https://localhost:8080/"
        },
        "id": "UInCoH0qYcqd",
        "outputId": "5a3b636a-b4ef-4abc-8d50-a855245c2382"
      },
      "outputs": [
        {
          "name": "stdout",
          "output_type": "stream",
          "text": [
            "Vote cast for A\n",
            "Vote cast for B\n",
            "Vote cast for B\n",
            "Vote cast for A\n",
            "Candidate A: 2 votes\n",
            "Candidate B: 2 votes\n"
          ]
        }
      ],
      "source": [
        "#14 Modify the election voting program to handle case sensitivity, so votes like a, A, b, B are treated the same.\n",
        "# Sample dictionary to count votes for each candidate\n",
        "votes = {\"a\": 0, \"b\": 0}\n",
        "\n",
        "def cast_vote(vote):\n",
        "    vote = vote.lower()\n",
        "    if vote in votes:\n",
        "        votes[vote] += 1\n",
        "        print(f\"Vote cast for {vote.upper()}\")\n",
        "    else:\n",
        "        print(\"Invalid vote.\")\n",
        "\n",
        "\n",
        "def display_results():\n",
        "    for candidate, count in votes.items():\n",
        "        print(f\"Candidate {candidate.upper()}: {count} votes\")\n",
        "\n",
        "# Example usage\n",
        "cast_vote(\"A\")  # Case-insensitive\n",
        "cast_vote(\"b\")\n",
        "cast_vote(\"B\")\n",
        "cast_vote(\"a\")\n",
        "\n",
        "display_results()"
      ]
    },
    {
      "cell_type": "code",
      "execution_count": null,
      "metadata": {
        "colab": {
          "background_save": true,
          "base_uri": "https://localhost:8080/"
        },
        "id": "3ZBy7DHxmOy1",
        "outputId": "59e06dd5-c571-4e01-db1e-e22f868fda8f"
      },
      "outputs": [
        {
          "name": "stdout",
          "output_type": "stream",
          "text": [
            "Voting System\n",
            "Type 'stop' to end voting.\n",
            "\n"
          ]
        }
      ],
      "source": [
        "#15Write a voting system program that announces a winner only if there are more than 5 votes, otherwise, it displays \"Not enough votes\"\n",
        "def voting_system():\n",
        "    votes = {}\n",
        "    print(\"Voting System\")\n",
        "    print(\"Type 'stop' to end voting.\\n\")\n",
        "\n",
        "    while True:\n",
        "        candidate = input(\"Enter the candidate's name (or type 'stop' to finish): \").strip()\n",
        "\n",
        "        if candidate.lower() == \"stop\":\n",
        "            break\n",
        "\n",
        "        if candidate in votes:\n",
        "            votes[candidate] += 1\n",
        "        else:\n",
        "            votes[candidate] = 1\n",
        "\n",
        "    total_votes = sum(votes.values())\n",
        "\n",
        "    if total_votes > 5:\n",
        "      print(\"\\nVoting Results:\")\n",
        "      for candidate, count in votes.items():\n",
        "            print(f\"{candidate}: {count} votes\")\n",
        "\n",
        "      winner = max(votes, key=votes.get)\n",
        "      print(f\"\\nWinner: {winner}\")\n",
        "    else:\n",
        "        print(\"Not enough votes to determine a winner.\")\n",
        "\n",
        "# Run the voting system\n",
        "voting_system()"
      ]
    },
    {
      "cell_type": "code",
      "execution_count": null,
      "metadata": {
        "id": "p5nXRw1rnU4t"
      },
      "outputs": [],
      "source": [
        "#16. Write a program that accepts a number from the user and prints if it's prime or not. Use break if you find a factor other than 1 and the number itself.\n",
        "def is_prime(number):\n",
        "  if number <= 1:\n",
        "    return False #it's not prime\n",
        "\n",
        "  for i in range(2, int(number**0.5) + 1):\n",
        "    if number % i == 0:\n",
        "      return False\n",
        "      break       # Exit\n",
        "\n",
        "  return True  # it's prime\n",
        "number = int(input(\"Enter a number: \"))\n",
        "\n",
        "# Check if the number is prime and print the result\n",
        "if is_prime(number):\n",
        "  print(f\"{number} is a prime number.\")\n",
        "else:\n",
        "  print(f\"{number} is not a prime number.\")\n"
      ]
    },
    {
      "cell_type": "code",
      "execution_count": 1,
      "metadata": {
        "id": "mwHJdy6knNm-",
        "colab": {
          "base_uri": "https://localhost:8080/"
        },
        "outputId": "829777d0-7b80-4114-99ff-0514b1662607"
      },
      "outputs": [
        {
          "output_type": "stream",
          "name": "stdout",
          "text": [
            "Enter a string: a\n",
            "Number of vowels: 1\n"
          ]
        }
      ],
      "source": [
        "#17 Create a program that uses a for loop to count the number of vowels in a given string. Use continue to skip consonants.\n",
        "def count_vowels(input_string):\n",
        "    vowels = \"aeiouAEIOU\"\n",
        "    count = 0\n",
        "\n",
        "    for char in input_string:\n",
        "        if char not in vowels:\n",
        "            continue  # Skip consonants and other characters\n",
        "        count += 1  # Count vowels\n",
        "\n",
        "    return count\n",
        "\n",
        "# Example usage\n",
        "text = input(\"Enter a string: \")\n",
        "print(\"Number of vowels:\", count_vowels(text))\n",
        "\n",
        "\n",
        "\n"
      ]
    },
    {
      "cell_type": "code",
      "execution_count": 2,
      "metadata": {
        "id": "PMl99ynjm6qQ",
        "colab": {
          "base_uri": "https://localhost:8080/"
        },
        "outputId": "b1b8d1e5-e04a-4e89-e7e8-c1e1e75726ba"
      },
      "outputs": [
        {
          "output_type": "stream",
          "name": "stdout",
          "text": [
            "12\n",
            "15\n",
            "23\n"
          ]
        }
      ],
      "source": [
        "#18 Write a program that accepts a list of numbers and prints only the numbers greater than 10 using a loop with continue.\n",
        "\n",
        "numbers = [3, 12, 7, 15, 8, 23, 4]\n",
        "for num in numbers:\n",
        "    if num <= 10:\n",
        "        continue\n",
        "    print(num)"
      ]
    },
    {
      "cell_type": "code",
      "execution_count": 4,
      "metadata": {
        "id": "nbgYFaiCmuSk",
        "colab": {
          "base_uri": "https://localhost:8080/",
          "height": 280
        },
        "outputId": "834a23ae-248d-44e0-acc7-1503b28f1c9c"
      },
      "outputs": [
        {
          "name": "stdout",
          "output_type": "stream",
          "text": [
            "Welcome to the Guessing Game!\n",
            "I'm thinking of a number between 1 and 20. You have 5 attempts to guess it.\n",
            "Too high! Try again.\n",
            "Attempt 2: Enter your guess: \n"
          ]
        },
        {
          "output_type": "error",
          "ename": "ValueError",
          "evalue": "invalid literal for int() with base 10: ''",
          "traceback": [
            "\u001b[0;31m---------------------------------------------------------------------------\u001b[0m",
            "\u001b[0;31mValueError\u001b[0m                                Traceback (most recent call last)",
            "\u001b[0;32m<ipython-input-4-19c4dd2df743>\u001b[0m in \u001b[0;36m<cell line: 9>\u001b[0;34m()\u001b[0m\n\u001b[1;32m      8\u001b[0m \u001b[0;34m\u001b[0m\u001b[0m\n\u001b[1;32m      9\u001b[0m \u001b[0;32mfor\u001b[0m \u001b[0mattempt\u001b[0m \u001b[0;32min\u001b[0m \u001b[0mrange\u001b[0m\u001b[0;34m(\u001b[0m\u001b[0;36m1\u001b[0m\u001b[0;34m,\u001b[0m \u001b[0mattempts\u001b[0m \u001b[0;34m+\u001b[0m \u001b[0;36m1\u001b[0m\u001b[0;34m)\u001b[0m\u001b[0;34m:\u001b[0m\u001b[0;34m\u001b[0m\u001b[0;34m\u001b[0m\u001b[0m\n\u001b[0;32m---> 10\u001b[0;31m     \u001b[0mguess\u001b[0m \u001b[0;34m=\u001b[0m \u001b[0mint\u001b[0m\u001b[0;34m(\u001b[0m\u001b[0minput\u001b[0m\u001b[0;34m(\u001b[0m\u001b[0;34mf\"Attempt {attempt}: Enter your guess: \"\u001b[0m\u001b[0;34m)\u001b[0m\u001b[0;34m)\u001b[0m\u001b[0;34m\u001b[0m\u001b[0;34m\u001b[0m\u001b[0m\n\u001b[0m\u001b[1;32m     11\u001b[0m     \u001b[0;32mif\u001b[0m \u001b[0mguess\u001b[0m \u001b[0;34m==\u001b[0m \u001b[0mrandom_number\u001b[0m\u001b[0;34m:\u001b[0m\u001b[0;34m\u001b[0m\u001b[0;34m\u001b[0m\u001b[0m\n\u001b[1;32m     12\u001b[0m         \u001b[0mprint\u001b[0m\u001b[0;34m(\u001b[0m\u001b[0;34m\"Congratulations! You guessed the correct number!\"\u001b[0m\u001b[0;34m)\u001b[0m\u001b[0;34m\u001b[0m\u001b[0;34m\u001b[0m\u001b[0m\n",
            "\u001b[0;31mValueError\u001b[0m: invalid literal for int() with base 10: ''"
          ]
        }
      ],
      "source": [
        "#19 Create a guessing game where the user has to guess a random number between 1 and 20. Allow the user up to 5 attempts, and use break to exit the loop if they guess correctly.\n",
        "import random\n",
        "random_number = random.randint(1, 20)\n",
        "attempts = 5\n",
        "\n",
        "print(\"Welcome to the Guessing Game!\")\n",
        "print(\"I'm thinking of a number between 1 and 20. You have 5 attempts to guess it.\")\n",
        "\n",
        "for attempt in range(1, attempts + 1):\n",
        "    guess = int(input(f\"Attempt {attempt}: Enter your guess: \"))\n",
        "    if guess == random_number:\n",
        "        print(\"Congratulations! You guessed the correct number!\")\n",
        "        break\n",
        "    elif guess < random_number:\n",
        "        print(\"Too low! Try again.\")\n",
        "    else:\n",
        "        print(\"Too high! Try again.\")\n",
        "    if attempt == attempts:\n",
        "        print(f\"Sorry, you've used all your attempts. The correct number was {random_number}.\")\n"
      ]
    },
    {
      "cell_type": "code",
      "execution_count": null,
      "metadata": {
        "id": "M-e8yPh0mXjb"
      },
      "outputs": [],
      "source": [
        "#20 Write a Python program to simulate a basic ATM system where users can check balance, deposit money, and withdraw money. Use a loop to keep asking for an action until the user\n",
        "class ATM:\n",
        "    def __init__(self, balance=0):\n",
        "        self.balance = balance\n",
        "\n",
        "    def check_balance(self):\n",
        "        print(f\"Your current balance is: ${self.balance:.2f}\")\n",
        "\n",
        "    def deposit(self, amount):\n",
        "        if amount > 0:\n",
        "            self.balance += amount\n",
        "            print(f\"${amount:.2f} deposited successfully.\")\n",
        "        else:\n",
        "            print(\"Invalid deposit amount.\")\n",
        "\n",
        "    def withdraw(self, amount):\n",
        "        if amount > self.balance:\n",
        "            print(\"Insufficient balance.\")\n",
        "        elif amount <= 0:\n",
        "            print(\"Invalid withdrawal amount.\")\n",
        "        else:\n",
        "          self.balance -= amount\n",
        "        print(f\"${amount:.2f} withdrawn successfully.\")\n",
        "\n",
        "    def start(self):\n",
        "        while True:\n",
        "            print(\"\\n--- ATM Menu ---\")\n",
        "            print(\"1. Check Balance\")\n",
        "            print(\"2. Deposit Money\")\n",
        "            print(\"3. Withdraw Money\")\n",
        "            print(\"4. Exit\")\n",
        "\n",
        "            choice = input(\"Choose an option (1-4): \")\n",
        "\n",
        "            if choice == \"1\":\n",
        "                self.check_balance()\n",
        "            elif choice == \"2\":\n",
        "                amount = float(input(\"Enter amount to deposit: $\"))\n",
        "                self.deposit(amount)\n",
        "            elif choice == \"3\":\n",
        "                amount = float(input(\"Enter amount to withdraw: $\"))\n",
        "                self.withdraw(amount)\n",
        "            elif choice == \"4\":\n",
        "                print(\"Thank you for using the ATM. Goodbye!\")\n",
        "                break\n",
        "            else:\n",
        "                print(\"Invalid option. Please try again.\")\n",
        "\n",
        "\n",
        "atm = ATM()\n",
        "atm.start()"
      ]
    },
    {
      "cell_type": "code",
      "execution_count": null,
      "metadata": {
        "colab": {
          "base_uri": "https://localhost:8080/"
        },
        "id": "hnDz5MCQTkzo",
        "outputId": "c99fbe3a-2901-4c3a-c3db-97635364750e"
      },
      "outputs": [
        {
          "name": "stdout",
          "output_type": "stream",
          "text": [
            "Hello,Python!\n"
          ]
        }
      ],
      "source": [
        "#1 Write a program to print \"Hello, Python!\".\n",
        "print(\"Hello,Python!\")"
      ]
    },
    {
      "cell_type": "code",
      "execution_count": 6,
      "metadata": {
        "id": "V1wM5AIEEilR",
        "colab": {
          "base_uri": "https://localhost:8080/"
        },
        "outputId": "350486ff-30ba-4926-e8be-c9fec57bade3"
      },
      "outputs": [
        {
          "output_type": "stream",
          "name": "stdout",
          "text": [
            "enter your name:snehal\n",
            "welcome snehal\n"
          ]
        }
      ],
      "source": [
        "#2 Create a program that takes a user's name as input and prints a personalized greeting.\n",
        "name=input(\"enter your name:\")\n",
        "print(\"welcome\",name)"
      ]
    },
    {
      "cell_type": "code",
      "execution_count": 7,
      "metadata": {
        "id": "KWq6YkJZHWXy",
        "colab": {
          "base_uri": "https://localhost:8080/"
        },
        "outputId": "88d7d32b-9f0f-4570-9637-08e8968076f1"
      },
      "outputs": [
        {
          "output_type": "stream",
          "name": "stdout",
          "text": [
            "enter a number:4\n",
            "4 is even\n"
          ]
        }
      ],
      "source": [
        "#3 Write a program to check if a given number is even or odd.\n",
        "a=int(input(\"enter a number:\"))\n",
        "if a%2==0:\n",
        "    print(a,\"is even\")\n",
        "else:\n",
        "   print(a,\"is odd\")"
      ]
    },
    {
      "cell_type": "code",
      "execution_count": 8,
      "metadata": {
        "colab": {
          "base_uri": "https://localhost:8080/"
        },
        "id": "XLfJl9tsMQce",
        "outputId": "3ef2e193-85f6-4f9f-9bb3-4079e5fdfd53"
      },
      "outputs": [
        {
          "output_type": "stream",
          "name": "stdout",
          "text": [
            "enter a number:4\n",
            "4 is even\n"
          ]
        }
      ],
      "source": [
        "#3 Write a program to check if a given number is even or odd.\n",
        "a=int(input(\"enter a number:\"))\n",
        "if a%2==0:\n",
        "    print(a,\"is even\")\n",
        "else:\n",
        "   print(a,\"is odd\")"
      ]
    },
    {
      "cell_type": "code",
      "execution_count": 9,
      "metadata": {
        "colab": {
          "base_uri": "https://localhost:8080/"
        },
        "id": "jd0KlL6mW9-B",
        "outputId": "66298068-54d6-458d-e2f2-5ba0a855d43b"
      },
      "outputs": [
        {
          "output_type": "stream",
          "name": "stdout",
          "text": [
            "55\n"
          ]
        }
      ],
      "source": [
        " #4 Create a program to find the sum of numbers from 1 to 10 using a for loop\n",
        "sum=0\n",
        "for i in range(1,11):\n",
        "  sum+=i\n",
        "\n",
        "print(sum)\n"
      ]
    },
    {
      "cell_type": "code",
      "execution_count": null,
      "metadata": {
        "colab": {
          "base_uri": "https://localhost:8080/"
        },
        "id": "7TmPdexoYLx9",
        "outputId": "db76ab33-d0f8-45cd-d830-07006aa1ee4f"
      },
      "outputs": [
        {
          "name": "stdout",
          "output_type": "stream",
          "text": [
            "1\n",
            "2\n",
            "3\n",
            "4\n",
            "5\n"
          ]
        }
      ],
      "source": [
        "#5 Write a while loop that prints numbers from 1 to 5.\n",
        "i=1\n",
        "while i<=5:\n",
        "  print(i)\n",
        "  i+=1\n"
      ]
    },
    {
      "cell_type": "code",
      "execution_count": null,
      "metadata": {
        "colab": {
          "base_uri": "https://localhost:8080/"
        },
        "id": "CK09AZm415kG",
        "outputId": "4c727f84-c25c-4e88-b576-5e9ff2093af5"
      },
      "outputs": [
        {
          "name": "stdout",
          "output_type": "stream",
          "text": [
            "enter a number:5\n",
            "5\n",
            "10\n",
            "15\n",
            "20\n",
            "25\n",
            "30\n",
            "35\n",
            "40\n",
            "45\n",
            "50\n"
          ]
        }
      ],
      "source": [
        "#6 Write a program that takes a number and prints its multiplication table using a for loop\n",
        "a=int(input (\"enter a number:\"))\n",
        "for i in range(1,11):\n",
        "  print(a*i)"
      ]
    },
    {
      "cell_type": "code",
      "execution_count": null,
      "metadata": {
        "colab": {
          "base_uri": "https://localhost:8080/"
        },
        "id": "jCmHBdry4KMR",
        "outputId": "95a1ef83-5833-49b7-d70d-43a4d6ede038"
      },
      "outputs": [
        {
          "name": "stdout",
          "output_type": "stream",
          "text": [
            "enter the number:4\n",
            "24\n"
          ]
        }
      ],
      "source": [
        "#7 Create a program to find the factorial of a number using a while loop.\n",
        "a=int(input(\"enter the number:\"))\n",
        "fact=1\n",
        "while a>0:\n",
        "  fact=fact*a\n",
        "  a-=1\n",
        "print(fact)"
      ]
    },
    {
      "cell_type": "code",
      "execution_count": null,
      "metadata": {
        "colab": {
          "base_uri": "https://localhost:8080/"
        },
        "id": "LISLdPuFCkQ1",
        "outputId": "e3d4c472-59e8-4f45-fd9d-a33571aecedd"
      },
      "outputs": [
        {
          "name": "stdout",
          "output_type": "stream",
          "text": [
            "78.5\n"
          ]
        }
      ],
      "source": [
        " #8 Write a program to calculate the area of a circle using a function\n",
        "def area(r):\n",
        "  return 3.14*r*r\n",
        "print(area(5))\n",
        "\n"
      ]
    },
    {
      "cell_type": "code",
      "execution_count": null,
      "metadata": {
        "colab": {
          "base_uri": "https://localhost:8080/"
        },
        "id": "qxNXTQ55mVrH",
        "outputId": "8575db52-bae7-489f-b7dc-8b5d1de84c87"
      },
      "outputs": [
        {
          "name": "stdout",
          "output_type": "stream",
          "text": [
            "8\n"
          ]
        }
      ],
      "source": [
        " #9 Write a lambda function to multiply two numbers.\n",
        " a=lambda x,y:x*y\n",
        " print(a(4,2))\n"
      ]
    },
    {
      "cell_type": "code",
      "execution_count": null,
      "metadata": {
        "colab": {
          "base_uri": "https://localhost:8080/"
        },
        "id": "rEcF9IfLnPCA",
        "outputId": "27b56196-2ad0-41b2-c767-59578204cc7e"
      },
      "outputs": [
        {
          "name": "stdout",
          "output_type": "stream",
          "text": [
            "max 92\n",
            "min 1\n"
          ]
        }
      ],
      "source": [
        "#10 Create a list of integers and find the largest and smallest numbers in the list.\n",
        "a=[1,23,43,56,43,18,92,11,22]\n",
        "print(\"max\",max(a))\n",
        "print(\"min\",min(a))\n"
      ]
    },
    {
      "cell_type": "code",
      "execution_count": null,
      "metadata": {
        "colab": {
          "base_uri": "https://localhost:8080/"
        },
        "id": "NGg5dyInoEwp",
        "outputId": "51bca6db-f1a8-4db5-bd37-919443c05bd9"
      },
      "outputs": [
        {
          "name": "stdout",
          "output_type": "stream",
          "text": [
            "even [2, 4, 6, 8, 10, 14]\n",
            "odd [1, 3, 5, 7, 9, 13, 15]\n"
          ]
        }
      ],
      "source": [
        "#11 . Write a program to count the number of even and odd numbers in a list\n",
        "a=[1,2,3,4,5,6,7,8,9,10,13,14,15]\n",
        "even=[]\n",
        "odd=[]\n",
        "for i in a:\n",
        "  if i%2==0:\n",
        "    even.append(i)\n",
        "  else:\n",
        "    odd.append(i)\n",
        "print(\"even\",even)\n",
        "print(\"odd\",odd)"
      ]
    },
    {
      "cell_type": "code",
      "execution_count": null,
      "metadata": {
        "colab": {
          "base_uri": "https://localhost:8080/"
        },
        "id": "DG3UBz_ro9ID",
        "outputId": "9c388e54-272d-4751-c606-04433d17542e"
      },
      "outputs": [
        {
          "name": "stdout",
          "output_type": "stream",
          "text": [
            "element exist\n"
          ]
        }
      ],
      "source": [
        "#12. Create a program to check if an element exists in a tuple\n",
        "t1=(1,2,3,4,5,6)\n",
        "if 3 in t1:\n",
        "  print(\"element exist\")\n",
        "else:\n",
        "  print(\"element does not exist\")\n"
      ]
    },
    {
      "cell_type": "code",
      "execution_count": null,
      "metadata": {
        "colab": {
          "base_uri": "https://localhost:8080/"
        },
        "id": "ajEJ6XlVq_w9",
        "outputId": "7a995287-8cd1-48ff-8797-f086ee7d8198"
      },
      "outputs": [
        {
          "name": "stdout",
          "output_type": "stream",
          "text": [
            "('snehal', 'kiran', 'rupali', 'sakshi', 'apple', 'babana', 'chiku')\n"
          ]
        }
      ],
      "source": [
        "#13 Write a program to add two tuples\n",
        "t1=('snehal','kiran','rupali','sakshi')\n",
        "t2=('apple','babana','chiku')\n",
        "t3=t1+t2\n",
        "print(t3)"
      ]
    },
    {
      "cell_type": "code",
      "execution_count": null,
      "metadata": {
        "colab": {
          "base_uri": "https://localhost:8080/"
        },
        "id": "E2VkBfzdro1w",
        "outputId": "51c579d6-e94c-4045-e5a3-1a42a117c3ee"
      },
      "outputs": [
        {
          "name": "stdout",
          "output_type": "stream",
          "text": [
            "{'snehal': 89, 'kiran': 98, 'gita': 67, 'rupali': 78}\n"
          ]
        }
      ],
      "source": [
        "#14 Create a dictionary that stores student names as keys and their marks as values.\n",
        "student={\n",
        "    \"snehal\":89,\n",
        "    \"kiran\":98,\n",
        "    \"gita\":67,\n",
        "    \"rupali\":78\n",
        "}\n",
        "print(student)\n",
        "\n",
        "\n"
      ]
    },
    {
      "cell_type": "code",
      "execution_count": null,
      "metadata": {
        "colab": {
          "base_uri": "https://localhost:8080/"
        },
        "id": "iZypmlmhss6x",
        "outputId": "88c37cc5-7db2-4e59-a559-f6e616ab47b8"
      },
      "outputs": [
        {
          "name": "stdout",
          "output_type": "stream",
          "text": [
            "[1, 12, 32, 32, 45, 54, 67, 343]\n"
          ]
        }
      ],
      "source": [
        "#15Write a program to sort a list of numbers in ascending order\n",
        "s=[1,32,45,67,54,32,12,343]\n",
        "s.sort()\n",
        "print(s)"
      ]
    },
    {
      "cell_type": "code",
      "execution_count": null,
      "metadata": {
        "colab": {
          "base_uri": "https://localhost:8080/"
        },
        "id": "zBizaFvAtCcq",
        "outputId": "2e76d3ae-4633-43e1-961f-39d7ed9e67e3"
      },
      "outputs": [
        {
          "name": "stdout",
          "output_type": "stream",
          "text": [
            "['bhadgaon', 'kolgaon', 'jalgaon', 'pachora']\n"
          ]
        }
      ],
      "source": [
        "#16 Write a program to reverse a string\n",
        "s=[\"pachora\",\"jalgaon\",\"kolgaon\",\"bhadgaon\"]\n",
        "s.reverse()\n",
        "print(s)"
      ]
    },
    {
      "cell_type": "code",
      "execution_count": null,
      "metadata": {
        "colab": {
          "base_uri": "https://localhost:8080/"
        },
        "id": "3VyE-lPithWa",
        "outputId": "75e562a3-09fc-47e3-fbb3-24b5150c47b8"
      },
      "outputs": [
        {
          "name": "stdout",
          "output_type": "stream",
          "text": [
            "element present\n"
          ]
        }
      ],
      "source": [
        "#17. Create a set of numbers and check if a specific number is present in the set\n",
        "a=[1,2,3,4,5,6,7,8,9]\n",
        "if 4 in a:\n",
        "  print(\"element present\")\n",
        "else:\n",
        "  print(\"element does not present\")\n",
        "\n",
        "\n"
      ]
    },
    {
      "cell_type": "code",
      "execution_count": null,
      "metadata": {
        "colab": {
          "base_uri": "https://localhost:8080/"
        },
        "id": "Wxp-WRofuVna",
        "outputId": "859458dd-0279-4862-b785-dae7a0663f3f"
      },
      "outputs": [
        {
          "name": "stdout",
          "output_type": "stream",
          "text": [
            "{1, 2, 3, 4, 5, 6, 7, 8, 9, 10, 11, 12, 14}\n"
          ]
        }
      ],
      "source": [
        "#18. Write a program to find the union of two sets.\n",
        "a={1,2,3,4,5,6,7,8,9}\n",
        "b={8,9,10,11,12,1,3,14,}\n",
        "c=a.union(b)\n",
        "print(c)\n"
      ]
    },
    {
      "cell_type": "code",
      "execution_count": null,
      "metadata": {
        "colab": {
          "base_uri": "https://localhost:8080/"
        },
        "id": "Hz0dadvPur0d",
        "outputId": "fbf3046b-3fc5-4e86-b828-0ab0962e3b2d"
      },
      "outputs": [
        {
          "name": "stdout",
          "output_type": "stream",
          "text": [
            "{8}\n"
          ]
        }
      ],
      "source": [
        "#19. Write a program to find the intersection of two sets.\n",
        "a={1,2,3,4,5,6,7,8}\n",
        "b={8,10,11,12,14,15}\n",
        "c=a.intersection(b)\n",
        "print(c)\n"
      ]
    },
    {
      "cell_type": "code",
      "execution_count": null,
      "metadata": {
        "colab": {
          "base_uri": "https://localhost:8080/"
        },
        "id": "L1xWxLK6vqcJ",
        "outputId": "8a2f5447-bbab-4e16-ac3b-d907463cfc14"
      },
      "outputs": [
        {
          "name": "stdout",
          "output_type": "stream",
          "text": [
            "25\n"
          ]
        }
      ],
      "source": [
        "#20. Create a function that returns the square of a given number.\n",
        "def square(a):\n",
        "  return a*a\n",
        "print(square(5))"
      ]
    },
    {
      "cell_type": "code",
      "execution_count": null,
      "metadata": {
        "colab": {
          "base_uri": "https://localhost:8080/"
        },
        "id": "-0opqUW4yDK4",
        "outputId": "69e0041a-3b1d-4586-ed39-af5c115af8b3"
      },
      "outputs": [
        {
          "name": "stdout",
          "output_type": "stream",
          "text": [
            "15\n"
          ]
        }
      ],
      "source": [
        " #21 Write a program to find the sum of all elements in a list.\n",
        "a=[1,2,3,4,5]\n",
        "x=0\n",
        "for i in a:\n",
        "  x+=i\n",
        "print(x)"
      ]
    },
    {
      "cell_type": "code",
      "execution_count": null,
      "metadata": {
        "colab": {
          "base_uri": "https://localhost:8080/"
        },
        "id": "mPx8Z84Fyxuo",
        "outputId": "5a2a7586-1f56-4568-b8f3-fcf4bdd12942"
      },
      "outputs": [
        {
          "name": "stdout",
          "output_type": "stream",
          "text": [
            "['a', 'b', 'c', 'd', 'e', 'f', 'g', 'h']\n"
          ]
        }
      ],
      "source": [
        "#22 . Create a list of strings and concatenate all the strings into one.\n",
        "s1=[\"a\",\"b\",\"c\",\"d\"]\n",
        "s2=[\"e\",\"f\",\"g\",\"h\"]\n",
        "s3=s1+s2\n",
        "print(s3)"
      ]
    },
    {
      "cell_type": "code",
      "execution_count": null,
      "metadata": {
        "colab": {
          "base_uri": "https://localhost:8080/"
        },
        "id": "OR60_TpxzlKP",
        "outputId": "13b187aa-a321-46ab-fb1b-6ed97aa03a6a"
      },
      "outputs": [
        {
          "name": "stdout",
          "output_type": "stream",
          "text": [
            "[1, 2, 3, 4, 5, 6, 7]\n"
          ]
        }
      ],
      "source": [
        "#23. Write a program to convert a tuple into a list.\n",
        "t1=(1,2,3,4,5,6,7)\n",
        "t1=list(t1)\n",
        "print(t1)\n"
      ]
    },
    {
      "cell_type": "code",
      "execution_count": null,
      "metadata": {
        "colab": {
          "base_uri": "https://localhost:8080/"
        },
        "id": "7ZyxDcJp0f5B",
        "outputId": "3fb066f5-d543-43ba-b1eb-0e99a8a209f4"
      },
      "outputs": [
        {
          "name": "stdout",
          "output_type": "stream",
          "text": [
            "[4, 5, 6]\n"
          ]
        }
      ],
      "source": [
        "#24 Create a program that takes two lists and returns their intersection\n",
        "l1=[1,2,3,4,5,6]\n",
        "l2=[4,5,6,7,8,9]\n",
        "l3=set(l1).intersection(set(l2))\n",
        "print(list(l3))\n"
      ]
    },
    {
      "cell_type": "code",
      "execution_count": null,
      "metadata": {
        "colab": {
          "base_uri": "https://localhost:8080/"
        },
        "id": "1rSihBHj01o3",
        "outputId": "bc117c3b-c7e4-426e-e6c4-9474d2f20b42"
      },
      "outputs": [
        {
          "name": "stdout",
          "output_type": "stream",
          "text": [
            "{'s': 2, 'n': 2, 'e': 1, 'h': 1, 'a': 2, 'l': 1, ' ': 1, 'i': 1, 'k': 1, 'r': 1}\n"
          ]
        }
      ],
      "source": [
        "#25 Write a program to count the frequency of each character in a string.\n",
        "s=\"snehal sinkar\"\n",
        "freq={}\n",
        "for i in s:\n",
        "  if i in freq:\n",
        "    freq[i]+=1\n",
        "  else:\n",
        "    freq[i]=1\n",
        "print(freq)"
      ]
    },
    {
      "cell_type": "code",
      "execution_count": null,
      "metadata": {
        "colab": {
          "base_uri": "https://localhost:8080/"
        },
        "id": "5-cQSnPx1bFi",
        "outputId": "aa9c8cd1-6fd5-439c-8e61-e23ac7eb5f15"
      },
      "outputs": [
        {
          "name": "stdout",
          "output_type": "stream",
          "text": [
            "zero\n"
          ]
        }
      ],
      "source": [
        "#26 Write a function to check if a number is positive, negative, or zero.\n",
        "def check(a):\n",
        "  if a>0:\n",
        "    print(\"positive\")\n",
        "  elif a<0:\n",
        "    print(\"negative\")\n",
        "  else:\n",
        "    print(\"zero\")\n",
        "check(0)"
      ]
    },
    {
      "cell_type": "code",
      "execution_count": null,
      "metadata": {
        "colab": {
          "base_uri": "https://localhost:8080/"
        },
        "id": "ORqSWxY52TRo",
        "outputId": "4f1ae41e-477e-4be2-b02c-1b8efb9d8f78"
      },
      "outputs": [
        {
          "name": "stdout",
          "output_type": "stream",
          "text": [
            "{'apple': 'red', 'banana': 'yellow', 'kiwi': 'green', 'grapes': 'black'}\n"
          ]
        }
      ],
      "source": [
        "#27 Create a dictionary with fruit names as keys and their colors as values\n",
        "fruits={\n",
        "    \"apple\":\"red\",\n",
        "    \"banana\":\"yellow\",\n",
        "    \"kiwi\":\"green\",\n",
        "    \"grapes\":\"black\"\n",
        "}\n",
        "print(fruits)"
      ]
    },
    {
      "cell_type": "code",
      "execution_count": null,
      "metadata": {
        "colab": {
          "base_uri": "https://localhost:8080/"
        },
        "id": "X-tPjjOp3Bm3",
        "outputId": "afc96736-5acc-4385-8a0a-3fb390032367"
      },
      "outputs": [
        {
          "name": "stdout",
          "output_type": "stream",
          "text": [
            "enter a string:\"SNEHAL\"\n",
            "True\n"
          ]
        }
      ],
      "source": [
        "#28  Write a program to check if a string is a palindrome.\n",
        "s=str(input(\"enter a string:\"))\n",
        "palindrome=[]\n",
        "not_palindrome=[]\n",
        "if a==a[::-1]:\n",
        "  print(palindrome)\n",
        "else:\n",
        "  print(not palindrome)\n"
      ]
    },
    {
      "cell_type": "code",
      "execution_count": null,
      "metadata": {
        "colab": {
          "base_uri": "https://localhost:8080/"
        },
        "id": "tq05NXfb4Z92",
        "outputId": "b8c2258d-21af-45f2-b363-698db0c7bd26"
      },
      "outputs": [
        {
          "name": "stdout",
          "output_type": "stream",
          "text": [
            "9\n"
          ]
        }
      ],
      "source": [
        "#29 Write a program to find the length of a list without using the `len()` function.\n",
        "l1=[\"sneha\",2,3,4,\"kiru\",6,7,8,9]\n",
        "count=0\n",
        "for i in l1:\n",
        "  count+=1\n",
        "print(count)\n"
      ]
    },
    {
      "cell_type": "code",
      "execution_count": null,
      "metadata": {
        "colab": {
          "base_uri": "https://localhost:8080/"
        },
        "id": "zb8IfRAg3qpB",
        "outputId": "ccc3209e-2be8-48a7-b475-90507d65ae5a"
      },
      "outputs": [
        {
          "name": "stdout",
          "output_type": "stream",
          "text": [
            "(1, 2, 3, 4, 5, 67, 7, 8)\n"
          ]
        }
      ],
      "source": [
        "#30  Write a function to convert a list of integers into a tuple.\n",
        "l1=[1,2,3,4,5,67,7,8]\n",
        "l1=tuple(l1)\n",
        "print(l1)"
      ]
    },
    {
      "cell_type": "code",
      "execution_count": null,
      "metadata": {
        "colab": {
          "base_uri": "https://localhost:8080/"
        },
        "id": "4ykYntRB3wnD",
        "outputId": "91f3a982-7e1f-45b5-bd45-2efe325194d7"
      },
      "outputs": [
        {
          "name": "stdout",
          "output_type": "stream",
          "text": [
            "[1, 2, 3, 4, 5, 6, 7, 8, 9, 10, 11, 12, 13, 14, 15, 16, 17, 18, 19, 20]\n"
          ]
        }
      ],
      "source": [
        "#31. Create a program that generates a list of numbers from 1 to 20 using a loop.\n",
        "a=[]\n",
        "for i in range(1,21):\n",
        "  a.append(i)\n",
        "print(a)"
      ]
    },
    {
      "cell_type": "code",
      "execution_count": null,
      "metadata": {
        "colab": {
          "base_uri": "https://localhost:8080/"
        },
        "id": "XLaXrsj9K0XX",
        "outputId": "78b8a7be-b0b8-4aec-f248-a0d5c76c89d6"
      },
      "outputs": [
        {
          "name": "stdout",
          "output_type": "stream",
          "text": [
            "16\n"
          ]
        }
      ],
      "source": [
        "#32. Write a lambda function to find the square of a number.\n",
        "a=lambda x:x*x\n",
        "print(a(4))"
      ]
    },
    {
      "cell_type": "code",
      "execution_count": null,
      "metadata": {
        "colab": {
          "base_uri": "https://localhost:8080/"
        },
        "id": "VhOFVcK2LQ3s",
        "outputId": "61b9c128-7b5c-4f03-f5a0-185247353683"
      },
      "outputs": [
        {
          "name": "stdout",
          "output_type": "stream",
          "text": [
            "enter a number:4\n",
            "not prime\n"
          ]
        }
      ],
      "source": [
        "#33. Write a function to check if a number is prime\n",
        "a=int(input(\"enter a number:\"))\n",
        "for i in range(2,a):\n",
        "  if a%i==0:\n",
        "    print(\"not prime\")\n",
        "    break\n",
        "else:\n",
        "  print(\"prime\")\n",
        "\n"
      ]
    },
    {
      "cell_type": "code",
      "execution_count": null,
      "metadata": {
        "colab": {
          "base_uri": "https://localhost:8080/"
        },
        "id": "Z3HmTRO8Nyu7",
        "outputId": "cc85ab86-fb6c-48ca-a686-2a49ad5c4e39"
      },
      "outputs": [
        {
          "name": "stdout",
          "output_type": "stream",
          "text": [
            "enter a number:5\n",
            "0\n",
            "1\n",
            "1\n"
          ]
        }
      ],
      "source": [
        "#34. Create a program to print the Fibonacci sequence up to a given number.\n",
        "a=int(input(\"enter a number:\"))\n",
        "a=0\n",
        "b=1\n",
        "print(a)\n",
        "print(b)\n",
        "c=a+b\n",
        "print(c)\n",
        "a=b\n",
        "b=c\n"
      ]
    },
    {
      "cell_type": "code",
      "execution_count": null,
      "metadata": {
        "colab": {
          "base_uri": "https://localhost:8080/"
        },
        "id": "3HQ9rJUrOrUA",
        "outputId": "f5a3d591-b7aa-4236-8c40-5be832cb05c9"
      },
      "outputs": [
        {
          "name": "stdout",
          "output_type": "stream",
          "text": [
            "['apple', 'banana', 'chiku', 'd', 'kiwi', 'melon', 'neha', 'snehal']\n"
          ]
        }
      ],
      "source": [
        "#35 Write a program to sort a list of strings in alphabetical order\n",
        "a=[\"snehal\",\"apple\",\"neha\",\"kiwi\",\"banana\",\"chiku\",\"d\",\"melon\"]\n",
        "a.sort()\n",
        "print(a)"
      ]
    },
    {
      "cell_type": "code",
      "execution_count": null,
      "metadata": {
        "colab": {
          "base_uri": "https://localhost:8080/"
        },
        "id": "AqLF4VYkPag2",
        "outputId": "11bd5318-639c-4a49-9d4c-0422ec43102a"
      },
      "outputs": [
        {
          "name": "stdout",
          "output_type": "stream",
          "text": [
            "{1, 2, 3, 4, 5, 6, 7, 8, 9}\n"
          ]
        }
      ],
      "source": [
        "#36. Create a set and add elements to it using a loop\n",
        "s1={1,3,4,5,6,7,8}\n",
        "for i in range(1,10):\n",
        "  s1.add(i)\n",
        "print(s1)\n"
      ]
    },
    {
      "cell_type": "code",
      "execution_count": null,
      "metadata": {
        "colab": {
          "base_uri": "https://localhost:8080/"
        },
        "id": "pEqe4HBBPwzy",
        "outputId": "3fb365b1-4644-462c-fc0f-e042598490d9"
      },
      "outputs": [
        {
          "name": "stdout",
          "output_type": "stream",
          "text": [
            "[1, 22, 3, 4, 55, 45, 65]\n"
          ]
        }
      ],
      "source": [
        "#37. Write a program to remove duplicates from a list\n",
        "l1=[1,22,3,22,4,55,4,55,45,65]\n",
        "l2=[]\n",
        "for i in l1:\n",
        "  if i not in l2:\n",
        "    l2.append(i)\n",
        "print(l2)"
      ]
    },
    {
      "cell_type": "code",
      "execution_count": null,
      "metadata": {
        "colab": {
          "base_uri": "https://localhost:8080/"
        },
        "id": "JGnY5KrqQ1_Q",
        "outputId": "264f9f61-f8c2-4bdb-abbd-931106f1886d"
      },
      "outputs": [
        {
          "name": "stdout",
          "output_type": "stream",
          "text": [
            "99\n",
            "45\n"
          ]
        }
      ],
      "source": [
        "#38. Write a program to find the maximum and minimum elements in a dictionary\n",
        "d={\n",
        "    \"snehal\":99,\n",
        "    \"kiran\":98,\n",
        "    \"gita\":67,\n",
        "    \"rupali\":45\n",
        "}\n",
        "print(max(d.values()))\n",
        "print(min(d.values()))\n"
      ]
    },
    {
      "cell_type": "code",
      "execution_count": null,
      "metadata": {
        "colab": {
          "base_uri": "https://localhost:8080/"
        },
        "id": "Vv7r2w9DRlfd",
        "outputId": "de0404c8-6831-46fa-901c-65e1aba09fc4"
      },
      "outputs": [
        {
          "name": "stdout",
          "output_type": "stream",
          "text": [
            "[10, 0, 9, 8, 7, 6, 5, 4, 3, 2, 1]\n"
          ]
        }
      ],
      "source": [
        "#39 Create a program that reverses a list of numbers\n",
        "l=[1,2,3,4,5,6,7,8,9,0,10]\n",
        "l.reverse()\n",
        "print(l)"
      ]
    },
    {
      "cell_type": "code",
      "execution_count": null,
      "metadata": {
        "colab": {
          "base_uri": "https://localhost:8080/"
        },
        "id": "41VnwP_MSAu5",
        "outputId": "7b59b726-dd99-47cd-84de-d36ea515937b"
      },
      "outputs": [
        {
          "name": "stdout",
          "output_type": "stream",
          "text": [
            "650\n"
          ]
        }
      ],
      "source": [
        "#40. Write a program to find the sum of even numbers from 1 to 50\n",
        "a=0\n",
        "for i in range(1,51):\n",
        "  if i%2==0:\n",
        "    a+=i\n",
        "print(a)"
      ]
    },
    {
      "cell_type": "code",
      "execution_count": null,
      "metadata": {
        "colab": {
          "base_uri": "https://localhost:8080/"
        },
        "id": "93fN-0UAS1Hw",
        "outputId": "9753fb43-cb18-4e0c-9a73-c29d19a723a9"
      },
      "outputs": [
        {
          "name": "stdout",
          "output_type": "stream",
          "text": [
            "enter a string:a\n",
            "1\n"
          ]
        }
      ],
      "source": [
        "#41. Write a program to count the number of vowels in a string\n",
        "a=str(input(\"enter a string:\"))\n",
        "count=0\n",
        "for i in a:\n",
        "  if i in \"aeiouAEIOU\":\n",
        "    count+=1\n",
        "print(count)"
      ]
    },
    {
      "cell_type": "code",
      "execution_count": null,
      "metadata": {
        "colab": {
          "base_uri": "https://localhost:8080/"
        },
        "id": "e8RGtZbMUOre",
        "outputId": "b8ef0b6a-3068-4a12-fb92-4394d09fd27f"
      },
      "outputs": [
        {
          "name": "stdout",
          "output_type": "stream",
          "text": [
            "34\n"
          ]
        }
      ],
      "source": [
        "#42 Create a program that finds the second largest number in a list.\n",
        "a=[11,22,32,34,56]\n",
        "x=sorted(a)\n",
        "print(a[-2])\n"
      ]
    },
    {
      "cell_type": "code",
      "execution_count": null,
      "metadata": {
        "colab": {
          "base_uri": "https://localhost:8080/"
        },
        "id": "5urb5PQXZv0p",
        "outputId": "fa21ecc1-9a4b-4352-8637-5b3c7839ddcf"
      },
      "outputs": [
        {
          "data": {
            "text/plain": [
              "True"
            ]
          },
          "execution_count": 9,
          "metadata": {},
          "output_type": "execute_result"
        }
      ],
      "source": [
        "#43 Write a function to check if a given string is an anagram of another string\n",
        "def are_anagram(a1,a2):\n",
        "  return sorted(a1) == sorted(a2)\n",
        "are_anagram(\"dusty\",\"study\")"
      ]
    },
    {
      "cell_type": "code",
      "execution_count": null,
      "metadata": {
        "colab": {
          "base_uri": "https://localhost:8080/"
        },
        "id": "99a03kRskSDC",
        "outputId": "db710fe6-ad1a-47a7-a30b-0428ac5ab338"
      },
      "outputs": [
        {
          "name": "stdout",
          "output_type": "stream",
          "text": [
            "['green', 'red', 'yellow']\n"
          ]
        }
      ],
      "source": [
        "#44. Create a program that sorts a dictionary by its values.\n",
        "x={\"apple\":\"red\",\"banana\":\"yellow\",\"kiwi\":\"green\"}\n",
        "y=sorted(x.values())\n",
        "print(y)"
      ]
    },
    {
      "cell_type": "code",
      "execution_count": null,
      "metadata": {
        "colab": {
          "base_uri": "https://localhost:8080/"
        },
        "id": "MxrVlGtyk26v",
        "outputId": "0f42387b-5a15-4cd3-cbd4-5cf7bf02105b"
      },
      "outputs": [
        {
          "name": "stdout",
          "output_type": "stream",
          "text": [
            "[1, 3, 4, 5, 6]\n"
          ]
        }
      ],
      "source": [
        "#45 Write a program to remove all occurrences of a specified element from a list\n",
        "a=[1,2,3,4,5,6]\n",
        "a.remove(2)\n",
        "print(a)\n",
        "\n"
      ]
    },
    {
      "cell_type": "code",
      "execution_count": null,
      "metadata": {
        "colab": {
          "base_uri": "https://localhost:8080/"
        },
        "id": "NDA21jvxq4lU",
        "outputId": "d5ff70e4-a27a-4333-d488-b46b9db58b15"
      },
      "outputs": [
        {
          "name": "stdout",
          "output_type": "stream",
          "text": [
            "enter a number:11\n",
            "2\n"
          ]
        }
      ],
      "source": [
        "#46 . Write a program to find the sum of digits of a given number.\n",
        "a=int(input(\"enter a number:\"))\n",
        "x=0\n",
        "for i in str(a):\n",
        "  x+=int\n",
        "print(x)\n"
      ]
    },
    {
      "cell_type": "code",
      "execution_count": null,
      "metadata": {
        "colab": {
          "base_uri": "https://localhost:8080/"
        },
        "id": "1RPoOunkrqDy",
        "outputId": "d7af1190-3f1c-4f06-adef-b4cb3b4e3817"
      },
      "outputs": [
        {
          "name": "stdout",
          "output_type": "stream",
          "text": [
            "even\n"
          ]
        }
      ],
      "source": [
        "#47 Create a lambda function to check if a number is even or odd.\n",
        "a=lambda x:\"even\" if x%2==0 else\"odd\"\n",
        "print(a(14))\n"
      ]
    },
    {
      "cell_type": "code",
      "execution_count": null,
      "metadata": {
        "id": "9pVd3u7FsXIS"
      },
      "outputs": [],
      "source": [
        "#48 . Write a function to merge two dictionaries.\n",
        "def merge(d1,d2):\n",
        "  return d1.update(d2)\n"
      ]
    },
    {
      "cell_type": "code",
      "execution_count": null,
      "metadata": {
        "colab": {
          "base_uri": "https://localhost:8080/"
        },
        "id": "3_21lXj-s5w6",
        "outputId": "faceea41-4dd1-4395-b21a-3d896c834154"
      },
      "outputs": [
        {
          "name": "stdout",
          "output_type": "stream",
          "text": [
            "1\n",
            "4\n",
            "9\n",
            "16\n",
            "25\n",
            "36\n",
            "49\n",
            "64\n",
            "81\n",
            "100\n"
          ]
        }
      ],
      "source": [
        "#49 Create a list comprehension to generate squares of numbers from 1 to 10\n",
        "for i in range(1,11):\n",
        "  print(i**2)"
      ]
    },
    {
      "cell_type": "code",
      "execution_count": null,
      "metadata": {
        "colab": {
          "base_uri": "https://localhost:8080/"
        },
        "id": "1a9iSBdJtZ2f",
        "outputId": "455a31ff-32f4-4ea4-8e3c-0852de6e53d1"
      },
      "outputs": [
        {
          "name": "stdout",
          "output_type": "stream",
          "text": [
            "[5, 6]\n"
          ]
        }
      ],
      "source": [
        "#50  Write a program to find the common elements between two lists.\n",
        "l1=[1,2,3,4,5,6]\n",
        "l2=[5,6,7,8,9]\n",
        "l3=set(l1).intersection(set(l2))\n",
        "print(list(l3))\n"
      ]
    },
    {
      "cell_type": "code",
      "execution_count": null,
      "metadata": {
        "colab": {
          "base_uri": "https://localhost:8080/"
        },
        "id": "eIKWHNvouamJ",
        "outputId": "d39ff0e0-d51b-47ad-8ac3-5a84647daec5"
      },
      "outputs": [
        {
          "name": "stdout",
          "output_type": "stream",
          "text": [
            "[]\n"
          ]
        }
      ],
      "source": [
        "#51 . Create a program to check if a list is empty\n",
        "l1=[]\n",
        "if len(l1)==0:\n",
        "  print(\"list is empty\")\n",
        "else:\n",
        "  print(\"list is not empty\")"
      ]
    },
    {
      "cell_type": "code",
      "execution_count": null,
      "metadata": {
        "colab": {
          "base_uri": "https://localhost:8080/"
        },
        "id": "Jn7fiz3_u9fK",
        "outputId": "f676986d-9bf9-495d-8ab1-50ae628c5879"
      },
      "outputs": [
        {
          "name": "stdout",
          "output_type": "stream",
          "text": [
            "45\n"
          ]
        }
      ],
      "source": [
        "#52 . Write a program to find the cumulative sum of a list.\n",
        "l1=[1,2,3,4,5,6,7,8,9]\n",
        "x=0\n",
        "for i in l1:\n",
        "  x+=i\n",
        "print(x)"
      ]
    },
    {
      "cell_type": "code",
      "execution_count": null,
      "metadata": {
        "colab": {
          "base_uri": "https://localhost:8080/"
        },
        "id": "M9SyMZiyaJoG",
        "outputId": "1b310a92-1dad-480a-a679-8151918cd4a7"
      },
      "outputs": [
        {
          "name": "stdout",
          "output_type": "stream",
          "text": [
            "13\n"
          ]
        }
      ],
      "source": [
        "#53. Write a function to count the number of words in a string\n",
        "a=\"snehal sinkar\"\n",
        "b=len(a)\n",
        "print(b)"
      ]
    },
    {
      "cell_type": "code",
      "execution_count": null,
      "metadata": {
        "colab": {
          "base_uri": "https://localhost:8080/"
        },
        "id": "OuQDt2tC3aSK",
        "outputId": "cca1303c-6e87-4dad-9299-7613d0b2556b"
      },
      "outputs": [
        {
          "name": "stdout",
          "output_type": "stream",
          "text": [
            "utkarsha\n"
          ]
        }
      ],
      "source": [
        "#54. Create a program to find the longest word in a list of words.\n",
        "a=[\"snehal\",\"utkarsha\",\"rameshwar\",\"shrushti\"]\n",
        "b=max(a)\n",
        "print(b)\n"
      ]
    },
    {
      "cell_type": "code",
      "execution_count": null,
      "metadata": {
        "colab": {
          "base_uri": "https://localhost:8080/"
        },
        "id": "CM4xDP0j4Hqw",
        "outputId": "25411ee6-95c6-44e2-cf62-d684519d9d20"
      },
      "outputs": [
        {
          "name": "stdout",
          "output_type": "stream",
          "text": [
            "s\n"
          ]
        }
      ],
      "source": [
        "#55 Write a function that returns the first non-repeated character in a string.\n",
        "x=\"snehal\"\n",
        "for i in x:\n",
        "  if x.count(i)==1:\n",
        "    print(i)\n",
        "    break\n",
        "else:\n",
        "  print(\"no non-repeated character\")"
      ]
    },
    {
      "cell_type": "code",
      "execution_count": null,
      "metadata": {
        "colab": {
          "base_uri": "https://localhost:8080/"
        },
        "id": "sHFl5TbW4c5S",
        "outputId": "c6db776b-5626-451f-ba55-67a865318d28"
      },
      "outputs": [
        {
          "name": "stdout",
          "output_type": "stream",
          "text": [
            "True\n"
          ]
        }
      ],
      "source": [
        "#56. Create a program that checks if two sets are disjoint.\n",
        "a={1,2,3,4}\n",
        "b={5,6,7,8,9,10}\n",
        "c=a.isdisjoint(b)\n",
        "print(c)\n"
      ]
    },
    {
      "cell_type": "code",
      "execution_count": null,
      "metadata": {
        "colab": {
          "base_uri": "https://localhost:8080/"
        },
        "id": "EUzVh5DQ45V9",
        "outputId": "e941bec3-bdf8-4b0d-ccfe-abeb50adb55c"
      },
      "outputs": [
        {
          "name": "stdout",
          "output_type": "stream",
          "text": [
            "{'date', 'snehal', 'cherry'}\n"
          ]
        }
      ],
      "source": [
        "#57. Write a program to remove the nth occurrence of a word from a list\n",
        "a={\"snehal\",\"apple\",\"cherry\",\"date\",\"apple\"}\n",
        "a.remove(\"apple\")\n",
        "print(a)"
      ]
    },
    {
      "cell_type": "code",
      "execution_count": null,
      "metadata": {
        "colab": {
          "base_uri": "https://localhost:8080/"
        },
        "id": "aDfKfDlIC92n",
        "outputId": "d8516f06-5b82-4032-d3f6-d5a4be6359f6"
      },
      "outputs": [
        {
          "name": "stdout",
          "output_type": "stream",
          "text": [
            "(1, 2, 3, 4, 5, 6)\n"
          ]
        }
      ],
      "source": [
        "#58. Write a function to convert a list of tuples into a dictionary\n",
        "a=[1,2,3,4,5,6]\n",
        "b=tuple(a)\n",
        "print(b)"
      ]
    },
    {
      "cell_type": "code",
      "execution_count": null,
      "metadata": {
        "colab": {
          "base_uri": "https://localhost:8080/"
        },
        "id": "i6QeYp3aHbBc",
        "outputId": "54401b18-8b66-4096-f1f9-eb32cb6b72c3"
      },
      "outputs": [
        {
          "name": "stdout",
          "output_type": "stream",
          "text": [
            "[2, 4, 6, 8, 10, 12, 14, 16, 18, 20, 22, 24, 26, 28, 30]\n"
          ]
        }
      ],
      "source": [
        "#59 . Create a program that generates a list of even numbers using a loop and lambda function.\n",
        "even_numbers = [x for x in range(1, 31) if x % 2 == 0]\n",
        "print(even_numbers)"
      ]
    },
    {
      "cell_type": "code",
      "execution_count": null,
      "metadata": {
        "colab": {
          "base_uri": "https://localhost:8080/"
        },
        "id": "Kk2SSk4EL-U7",
        "outputId": "e62c65c5-167b-4daa-e402-d6e206ea8607"
      },
      "outputs": [
        {
          "name": "stdout",
          "output_type": "stream",
          "text": [
            "tuple is empty\n"
          ]
        }
      ],
      "source": [
        "#60. Write a program to check if a tuple is empty.\n",
        "t1=()\n",
        "if len(t1)==0:\n",
        "  print(\"tuple is empty\")\n",
        "else:\n",
        "  print(\"tuple is not empty\")"
      ]
    },
    {
      "cell_type": "code",
      "execution_count": null,
      "metadata": {
        "colab": {
          "base_uri": "https://localhost:8080/"
        },
        "id": "YedTn4ufNQt3",
        "outputId": "c8179004-333d-4de2-c54d-1056edf5a111"
      },
      "outputs": [
        {
          "name": "stdout",
          "output_type": "stream",
          "text": [
            "[1, 2, 3, 4, 5, 6, 7, 8, 9, 10]\n"
          ]
        }
      ],
      "source": [
        "#61. Create a program to merge two lists without duplicates\n",
        "l1=[1,2,3,4,5]\n",
        "l2=[4,5,6,7,8,9,10]\n",
        "l3=set(l1).union(set(l2))\n",
        "print(list(l3))"
      ]
    },
    {
      "cell_type": "code",
      "execution_count": null,
      "metadata": {
        "colab": {
          "base_uri": "https://localhost:8080/"
        },
        "id": "TVUaeypcN4Ob",
        "outputId": "3f2cdd11-d64b-41dd-8301-1fee1f499510"
      },
      "outputs": [
        {
          "name": "stdout",
          "output_type": "stream",
          "text": [
            "24\n"
          ]
        }
      ],
      "source": [
        "#62. Write a function to find the factorial of a number using recursion\n",
        "def factorial(a):\n",
        "  if a==0:\n",
        "    return 1\n",
        "  else:\n",
        "    return a*factorial(a-1)\n",
        "print(factorial(4))"
      ]
    },
    {
      "cell_type": "code",
      "execution_count": null,
      "metadata": {
        "colab": {
          "base_uri": "https://localhost:8080/"
        },
        "id": "eAoc3mdJ2Db7",
        "outputId": "77fd93fe-8885-4923-e1ae-85d194b82c3e"
      },
      "outputs": [
        {
          "name": "stdout",
          "output_type": "stream",
          "text": [
            "pranjal\n"
          ]
        }
      ],
      "source": [
        "#63. Write a program to convert a string to lowercase without using built-in functions\n",
        "a=\"PRANJAL\"\n",
        "b=\"\"\n",
        "for i in a:\n",
        "  if ord(i)>=65 and ord(i)<=90:\n",
        "    b+=chr(ord(i)+32)\n",
        "  else:\n",
        "    b+=i\n",
        "print(b)"
      ]
    },
    {
      "cell_type": "code",
      "execution_count": null,
      "metadata": {
        "colab": {
          "base_uri": "https://localhost:8080/"
        },
        "id": "05ADQuQMQb3-",
        "outputId": "071c68d4-f7e1-498f-996c-70d39a7f813b"
      },
      "outputs": [
        {
          "name": "stdout",
          "output_type": "stream",
          "text": [
            "['kiran', 'snehal']\n"
          ]
        }
      ],
      "source": [
        "#64 . Create a program that finds the common keys in two dictionaries.\n",
        "d1={\n",
        "    \"snehal\":99,\n",
        "    \"kiran\":98,\n",
        "    \"gita\":67,\n",
        "    \"rupali\":45\n",
        "}\n",
        "d2={\n",
        "    \"snehal\":99,\n",
        "    \"kiran\":98,\n",
        "}\n",
        "d3=set(d1.keys()).intersection(set(d2.keys()))\n",
        "print(list(d3))"
      ]
    },
    {
      "cell_type": "code",
      "execution_count": null,
      "metadata": {
        "colab": {
          "base_uri": "https://localhost:8080/"
        },
        "id": "LdcgZUF0T20Y",
        "outputId": "f798ef93-48ce-42b6-a896-e6202e77e6ff"
      },
      "outputs": [
        {
          "name": "stdout",
          "output_type": "stream",
          "text": [
            "61\n"
          ]
        }
      ],
      "source": [
        "#65 Write a program to find the sum of elements in a nested list\n",
        "a=[[1,2,3],[4,3,2,1],[5,6,7,8,9,10]]\n",
        "b=0\n",
        "for i in a:\n",
        "  for j in i:\n",
        "    b+=j\n",
        "print(b)"
      ]
    },
    {
      "cell_type": "code",
      "execution_count": null,
      "metadata": {
        "colab": {
          "base_uri": "https://localhost:8080/"
        },
        "id": "m-IrDsi7Ueyd",
        "outputId": "42de8db3-1164-4249-c50c-4f3cdaf73abc"
      },
      "outputs": [
        {
          "name": "stdout",
          "output_type": "stream",
          "text": [
            "4\n"
          ]
        }
      ],
      "source": [
        "#66 Create a function to find the index of an element in a list.\n",
        "x=[1,2,3,4,5,6,7,8,9,10]\n",
        "y=x.index(5)\n",
        "print(y)\n",
        "\n",
        "\n"
      ]
    },
    {
      "cell_type": "code",
      "execution_count": 10,
      "metadata": {
        "id": "tP87Q-AdXZ3Y"
      },
      "outputs": [],
      "source": [
        "#67 Write a program to check if a number is a palindrome.\n",
        "def palindrome  (s):\n",
        "  if a==a[::-1]:\n",
        "    print(\"this is palindrome\",s)\n",
        "  else:\n",
        "    print(\"this is not palindrome\",s)\n"
      ]
    },
    {
      "cell_type": "code",
      "execution_count": null,
      "metadata": {
        "colab": {
          "base_uri": "https://localhost:8080/"
        },
        "id": "_3U25Tf6YqTm",
        "outputId": "fe4b03f2-1851-4626-b54b-14dd158a7744"
      },
      "outputs": [
        {
          "name": "stdout",
          "output_type": "stream",
          "text": [
            "this is not palindrome 191\n"
          ]
        }
      ],
      "source": [
        "s='191'\n",
        "palindrome(s)"
      ]
    },
    {
      "cell_type": "code",
      "execution_count": null,
      "metadata": {
        "colab": {
          "base_uri": "https://localhost:8080/"
        },
        "id": "NDM7lx-TZD22",
        "outputId": "14c8a276-9f08-4281-9e19-4026618147e6"
      },
      "outputs": [
        {
          "name": "stdout",
          "output_type": "stream",
          "text": [
            "sn*h*l\n"
          ]
        }
      ],
      "source": [
        "#68 Write a program to replace vowels in a string with a specified character.\n",
        "x=\"snehal\"\n",
        "y=\"\"\n",
        "for i in x:\n",
        "  if i in \"aeiouAEIOU\":\n",
        "    y+=\"*\"\n",
        "  else:\n",
        "    y+=i\n",
        "print(y)\n",
        "\n"
      ]
    },
    {
      "cell_type": "code",
      "execution_count": null,
      "metadata": {
        "colab": {
          "base_uri": "https://localhost:8080/"
        },
        "id": "4Zrr7w99Zrnr",
        "outputId": "1a6817e0-f346-47ce-dc62-7878a216f9e1"
      },
      "outputs": [
        {
          "name": "stdout",
          "output_type": "stream",
          "text": [
            "upper letter 1\n",
            "lower letter 5\n"
          ]
        }
      ],
      "source": [
        "#69. Create a function to count the number of uppercase and lowercase letters in a string.\n",
        "a=\"Snehal\"\n",
        "upper=0\n",
        "lower=0\n",
        "for i in a:\n",
        "   if ord(i)>=65 and ord(i)<=90:\n",
        "    upper+=1\n",
        "   elif ord(i)>=97 and ord(i)<=122:\n",
        "    lower+=1\n",
        "print(\"upper letter\",upper)\n",
        "print(\"lower letter\",lower)\n"
      ]
    },
    {
      "cell_type": "code",
      "execution_count": null,
      "metadata": {
        "colab": {
          "base_uri": "https://localhost:8080/"
        },
        "id": "GNeiv4jLg5uJ",
        "outputId": "adec0d1a-677d-432a-9604-6026be5298d9"
      },
      "outputs": [
        {
          "name": "stdout",
          "output_type": "stream",
          "text": [
            "[1, 2, 3, 2, 3, 4, 5, 6, 6, 7]\n"
          ]
        }
      ],
      "source": [
        "#70. Write a program to find the mode of a list of numbers.\n",
        "def mode(a):\n",
        "  count={}\n",
        "  for i in a:\n",
        "    if i in count:\n",
        "      count[i]+=1\n",
        "    else:\n",
        "      count[i]=1\n",
        "      max_count=max(count.values())\n",
        "      return x\n",
        "x=[1,2,3,2,3,4,5,6,6,7]\n",
        "print(mode(x))\n"
      ]
    },
    {
      "cell_type": "code",
      "execution_count": null,
      "metadata": {
        "colab": {
          "base_uri": "https://localhost:8080/"
        },
        "id": "f3CKKWHDhqox",
        "outputId": "df326fb2-80f3-4e50-cd33-bda318b21f39"
      },
      "outputs": [
        {
          "name": "stdout",
          "output_type": "stream",
          "text": [
            "8\n"
          ]
        }
      ],
      "source": [
        "#71. Create a lambda function to find the product of two numbers.\n",
        "product=lambda x,y:x*y\n",
        "x=2\n",
        "y=4\n",
        "print(product(2,4))"
      ]
    },
    {
      "cell_type": "code",
      "execution_count": null,
      "metadata": {
        "colab": {
          "base_uri": "https://localhost:8080/"
        },
        "id": "bd0Px2w0iHfo",
        "outputId": "f20925fa-d8fb-4b31-9df8-b9210db9724e"
      },
      "outputs": [
        {
          "name": "stdout",
          "output_type": "stream",
          "text": [
            "[5, 6]\n"
          ]
        }
      ],
      "source": [
        "#72. Write a program to create a new list with elements that are common to two given lists.\n",
        "a=[1,2,3,4,5,6]\n",
        "b=[5,6,7,8,9]\n",
        "c=set(a).intersection(set(b))\n",
        "print(list(c))"
      ]
    },
    {
      "cell_type": "code",
      "execution_count": null,
      "metadata": {
        "colab": {
          "base_uri": "https://localhost:8080/"
        },
        "id": "D7vBKJWVpmF_",
        "outputId": "c645495e-c9f3-4ec1-f1af-e3aa00dbe628"
      },
      "outputs": [
        {
          "name": "stdout",
          "output_type": "stream",
          "text": [
            "snhl\n"
          ]
        }
      ],
      "source": [
        "#73. Write a program to remove all the vowels from a string.\n",
        "a=\"snehal\"\n",
        "b=\"\"\n",
        "for i in a:\n",
        "  if i not in \"aeiouAEIOU\":\n",
        "    b+=i\n",
        "print(b)\n"
      ]
    },
    {
      "cell_type": "code",
      "execution_count": null,
      "metadata": {
        "colab": {
          "base_uri": "https://localhost:8080/"
        },
        "id": "r91EC2D0qHGG",
        "outputId": "c228c5cc-e6bd-4d72-ecbb-fc8b60049f7f"
      },
      "outputs": [
        {
          "name": "stdout",
          "output_type": "stream",
          "text": [
            "[(55, 66), (33, 44), (11, 22)]\n"
          ]
        }
      ],
      "source": [
        "#74. Create a function to reverse a list of tuples.\n",
        "a=[(11,22),(33,44),(55,66)]\n",
        "a.reverse()\n",
        "print(a)\n"
      ]
    },
    {
      "cell_type": "code",
      "execution_count": null,
      "metadata": {
        "colab": {
          "base_uri": "https://localhost:8080/"
        },
        "id": "uQ6-KNqgqPgq",
        "outputId": "4ec4e686-5a28-42bc-cc47-e5a3d35b8ea1"
      },
      "outputs": [
        {
          "name": "stdout",
          "output_type": "stream",
          "text": [
            "{'sneha': 1, 'lavanya': 2, 'kiran': 3, 'neha': 4}\n"
          ]
        }
      ],
      "source": [
        "#75. Write a program to create a dictionary from two lists.\n",
        "a=[\"sneha\",\"lavanya\",\"kiran\",\"neha\"]\n",
        "b=[1,2,3,4]\n",
        "c=dict(zip(a,b))\n",
        "print(c)"
      ]
    },
    {
      "cell_type": "code",
      "execution_count": null,
      "metadata": {
        "colab": {
          "base_uri": "https://localhost:8080/"
        },
        "id": "geM-Orraqv53",
        "outputId": "d6ad0614-d24d-47e5-a181-930c5464e4cc"
      },
      "outputs": [
        {
          "name": "stdout",
          "output_type": "stream",
          "text": [
            "1\n"
          ]
        }
      ],
      "source": [
        "#76. Write a function to find the GCD (Greatest Common Divisor) of two numbers.\n",
        "def gcd(a,b):\n",
        "  if b==0:\n",
        "    return a\n",
        "  else:\n",
        "    return gcd(b,a%b)\n",
        "print(gcd(22,15))"
      ]
    },
    {
      "cell_type": "code",
      "execution_count": null,
      "metadata": {
        "colab": {
          "base_uri": "https://localhost:8080/"
        },
        "id": "1K4dqXvorjnu",
        "outputId": "d30ebf28-cdff-460c-82e3-b10bbe6e34e9"
      },
      "outputs": [
        {
          "name": "stdout",
          "output_type": "stream",
          "text": [
            "string contains only digits\n"
          ]
        }
      ],
      "source": [
        "#77. Create a program to check if a string contains only digits.\n",
        "a=\"4567890\"\n",
        "if a.isdigit():\n",
        "  print(\"string contains only digits\")\n",
        "else:\n",
        "  print(\"string does not contain only digits\")\n"
      ]
    },
    {
      "cell_type": "code",
      "execution_count": null,
      "metadata": {
        "colab": {
          "base_uri": "https://localhost:8080/"
        },
        "id": "YWXLOSO7s5T5",
        "outputId": "6d84f3e5-ac5d-416a-fc1e-5fb6b9ec4f8f"
      },
      "outputs": [
        {
          "name": "stdout",
          "output_type": "stream",
          "text": [
            "[('a', 22), ('b', 44), ('c', 66)]\n"
          ]
        }
      ],
      "source": [
        "#78. Write a program to sort a list of tuples based on the second element.\n",
        "a=[(\"a\",22),(\"b\",44),(\"c\",66)]\n",
        "a.sort(key=lambda x:[1])\n",
        "print(a)"
      ]
    },
    {
      "cell_type": "code",
      "execution_count": null,
      "metadata": {
        "colab": {
          "base_uri": "https://localhost:8080/"
        },
        "id": "ptQ-sN-4tDsi",
        "outputId": "552a9ba6-6869-47fd-83ec-92c9f68ca393"
      },
      "outputs": [
        {
          "name": "stdout",
          "output_type": "stream",
          "text": [
            "list is sorted ascending order\n"
          ]
        }
      ],
      "source": [
        "#79. Create a function to check if a list of numbers is sorted in ascending order\n",
        "x=[1,2,3,4,5,6,7,8,9]\n",
        "if x==sorted(x):\n",
        "  print(\"list is sorted ascending order\")\n",
        "else:\n",
        "  print(\"list is not sorted ascending order\")"
      ]
    },
    {
      "cell_type": "code",
      "execution_count": null,
      "metadata": {
        "colab": {
          "base_uri": "https://localhost:8080/"
        },
        "id": "F056yGFou8ny",
        "outputId": "bf60e16a-2c94-48e4-8e45-3413e3b31218"
      },
      "outputs": [
        {
          "name": "stdout",
          "output_type": "stream",
          "text": [
            "[2, 4, 6, 8, 10, 12, 14]\n",
            "[1, 3, 5, 7, 9, 11, 13, 15]\n"
          ]
        }
      ],
      "source": [
        "#80 Write a program to split a list into two parts, where the first part contains even numbers and the second part contains odd numbers\n",
        "a=[1,2,3,4,5,6,7,8,9,10,11,12,13,14,15]\n",
        "even=[]\n",
        "odd=[]\n",
        "for i in a:\n",
        "  if i%2==0:\n",
        "    even.append(i)\n",
        "  else:\n",
        "    odd.append(i)\n",
        "print(even)\n",
        "print(odd)"
      ]
    },
    {
      "cell_type": "code",
      "execution_count": null,
      "metadata": {
        "id": "tzWGHfgLvbNy"
      },
      "outputs": [],
      "source": []
    }
  ],
  "metadata": {
    "colab": {
      "provenance": []
    },
    "kernelspec": {
      "display_name": "Python 3",
      "name": "python3"
    },
    "language_info": {
      "name": "python"
    }
  },
  "nbformat": 4,
  "nbformat_minor": 0
}